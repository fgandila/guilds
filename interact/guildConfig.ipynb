{
 "cells": [
  {
   "cell_type": "code",
   "execution_count": 4,
   "metadata": {},
   "outputs": [
    {
     "name": "stderr",
     "output_type": "stream",
     "text": [
      "\u001b[93m2024-07-30 18:27:50,934 - WARNING - Structure definition for stakings_boosted not found in /home/multiversx/Documents/guilds_py/deploy/configs-mainnet/deploy_structure.json\u001b[0m\n"
     ]
    },
    {
     "name": "stdout",
     "output_type": "stream",
     "text": [
      "loaded 1 accounts from 1 PEM files.\n"
     ]
    },
    {
     "name": "stderr",
     "output_type": "stream",
     "text": [
      "\u001b[38;20m2024-07-30 18:27:51,296 - DEBUG - Account.sync_nonce() done: 3614\u001b[0m\n",
      "\u001b[38;20m2024-07-30 18:27:51,482 - DEBUG - Account.sync_nonce() done: 3614\u001b[0m\n",
      "\u001b[92m2024-07-30 18:27:51,483 - INFO - Loaded 10 tokens.\u001b[0m\n",
      "\u001b[38;20m2024-07-30 18:27:51,691 - DEBUG - Account.sync_nonce() done: 3614\u001b[0m\n",
      "\u001b[92m2024-07-30 18:27:51,693 - INFO - Loaded 0 stakings.\u001b[0m\n",
      "\u001b[92m2024-07-30 18:27:51,694 - INFO - Loaded 7 stakings_v2.\u001b[0m\n",
      "\u001b[92m2024-07-30 18:27:51,695 - INFO - Loaded 0 stakings_boosted.\u001b[0m\n",
      "\u001b[38;20m2024-07-30 18:27:51,906 - DEBUG - Account.sync_nonce() done: 3614\u001b[0m\n",
      "\u001b[92m2024-07-30 18:27:51,907 - INFO - Deployed contracts below:\u001b[0m\n",
      "\u001b[92m2024-07-30 18:27:51,908 - INFO - stakings:\u001b[0m\n",
      "\u001b[92m2024-07-30 18:27:51,908 - INFO - stakings_v2:\u001b[0m\n",
      "\u001b[92m2024-07-30 18:27:51,908 - INFO - Deployed staking contract: erd1qqqqqqqqqqqqqpgqmqq78c5htmdnws8hm5u4suvags36eq092jpsaxv3e7\u001b[0m\n",
      "\u001b[92m2024-07-30 18:27:51,909 - INFO -  ├ Staking token: RIDE-7d18e9\u001b[0m\n",
      "\u001b[92m2024-07-30 18:27:51,909 - INFO -  ├ Stake token: SRIDE-4ab1d4\u001b[0m\n",
      "\u001b[92m2024-07-30 18:27:51,910 - INFO - Deployed staking contract: erd1qqqqqqqqqqqqqpgqr7kdhagkqgxvjrsk7s5333l9wwnenr9g2jps8puq33\u001b[0m\n",
      "\u001b[92m2024-07-30 18:27:51,911 - INFO -  ├ Staking token: ZPAY-247875\u001b[0m\n",
      "\u001b[92m2024-07-30 18:27:51,911 - INFO -  ├ Stake token: SZPAY-9f1b39\u001b[0m\n",
      "\u001b[92m2024-07-30 18:27:51,912 - INFO - Deployed staking contract: erd1qqqqqqqqqqqqqpgqzps75vsk97w9nsx2cenv2r2tyxl4fl402jpsx78m9j\u001b[0m\n",
      "\u001b[92m2024-07-30 18:27:51,913 - INFO -  ├ Staking token: ITHEUM-df6f26\u001b[0m\n",
      "\u001b[92m2024-07-30 18:27:51,913 - INFO -  ├ Stake token: SITHEUM-e05083\u001b[0m\n",
      "\u001b[92m2024-07-30 18:27:51,913 - INFO - Deployed staking contract: erd1qqqqqqqqqqqqqpgq45zs77q884ts6y9zj4jyqfn6ydev8ruv2jps3tteqq\u001b[0m\n",
      "\u001b[92m2024-07-30 18:27:51,914 - INFO -  ├ Staking token: BHAT-c1fde3\u001b[0m\n",
      "\u001b[92m2024-07-30 18:27:51,914 - INFO -  ├ Stake token: SBHAT-89efd3\u001b[0m\n",
      "\u001b[92m2024-07-30 18:27:51,915 - INFO - Deployed staking contract: erd1qqqqqqqqqqqqqpgqcedkmj8ezme6mtautj79ngv7fez978le2jps8jtawn\u001b[0m\n",
      "\u001b[92m2024-07-30 18:27:51,915 - INFO -  ├ Staking token: UTK-2f80e9\u001b[0m\n",
      "\u001b[92m2024-07-30 18:27:51,916 - INFO -  ├ Stake token: SUTK-ba35f3\u001b[0m\n",
      "\u001b[92m2024-07-30 18:27:51,916 - INFO - Deployed staking contract: erd1qqqqqqqqqqqqqpgqp2wfzvkhlpkwcdxx25qzznx33345979w2jpsl3gflj\u001b[0m\n",
      "\u001b[92m2024-07-30 18:27:51,916 - INFO -  ├ Staking token: CRT-52decf\u001b[0m\n",
      "\u001b[92m2024-07-30 18:27:51,917 - INFO -  ├ Stake token: SCRT-acbd64\u001b[0m\n",
      "\u001b[92m2024-07-30 18:27:51,917 - INFO - Deployed staking contract: erd1qqqqqqqqqqqqqpgqjdlnu9ggwfc79pygn5fjjgmdm6d7vu5e2jpsw59amp\u001b[0m\n",
      "\u001b[92m2024-07-30 18:27:51,917 - INFO -  ├ Staking token: ASH-a642d1\u001b[0m\n",
      "\u001b[92m2024-07-30 18:27:51,918 - INFO -  ├ Stake token: SASH-3671bd\u001b[0m\n",
      "\u001b[92m2024-07-30 18:27:51,918 - INFO - stakings_boosted:\u001b[0m\n"
     ]
    },
    {
     "name": "stdout",
     "output_type": "stream",
     "text": [
      "\n",
      "\n",
      "\n"
     ]
    }
   ],
   "source": [
    "import sys\n",
    "from pathlib import Path\n",
    "\n",
    "sys.path.append(str(Path.cwd().parent.absolute()))\n",
    "import config\n",
    "import yaml\n",
    "\n",
    "from context import Context\n",
    "from utils.utils_chain import WrapperAddress as Address, Account, hex_to_string\n",
    "from utils.utils_chain import nominated_amount\n",
    "from utils.contract_retrievers import retrieve_farm_by_address\n",
    "from utils.utils_chain import get_token_details_for_address, get_all_token_nonces_details_for_account\n",
    "from utils.utils_tx import ESDTToken\n",
    "from contracts.guild_contract import GuildContract\n",
    "from utilities import get_default_data\n",
    "\n",
    "context = Context()\n",
    "\n",
    "(\n",
    "    configuration,\n",
    "    test_address,\n",
    "    guild_factory_address,\n",
    "    provider,\n",
    "    network_config,\n",
    "    signer,\n",
    "    nonce_holder,\n",
    "    sc_factory,\n",
    ") = get_default_data()"
   ]
  },
  {
   "cell_type": "code",
   "execution_count": 6,
   "metadata": {},
   "outputs": [
    {
     "name": "stderr",
     "output_type": "stream",
     "text": [
      "\u001b[38;20m2024-07-30 18:28:23,164 - DEBUG - Account.sync_nonce() done: 48\u001b[0m\n"
     ]
    }
   ],
   "source": [
    "user2 = Account(pem_file=\"/home/multiversx/Documents/guilds_py/wallets/wallet2.pem\")\n",
    "user2.address = Address(\"erd1upgm0ghcvsmnup2a22pjrla7turpp8mvzn5jqh0ahrsrv0tegypqmphthz\")\n",
    "\n",
    "user = Account(pem_file=\"/home/multiversx/Documents/guilds_py/wallets/wallet1.pem\")\n",
    "user.address = Address(\"erd1a2x0azarwsag9svwdn23pjramat7zcjceqd44yh4g7jx4pugkg2s3jwlel\")\n",
    "user.sync_nonce(context.network_provider.proxy)"
   ]
  },
  {
   "cell_type": "code",
   "execution_count": 7,
   "metadata": {},
   "outputs": [
    {
     "ename": "FileNotFoundError",
     "evalue": "[Errno 2] No such file or directory: 'config_file.yaml'",
     "output_type": "error",
     "traceback": [
      "\u001b[0;31m---------------------------------------------------------------------------\u001b[0m",
      "\u001b[0;31mFileNotFoundError\u001b[0m                         Traceback (most recent call last)",
      "Cell \u001b[0;32mIn[7], line 4\u001b[0m\n\u001b[1;32m      1\u001b[0m \u001b[38;5;28;01mfrom\u001b[39;00m \u001b[38;5;21;01mutils\u001b[39;00m\u001b[38;5;21;01m.\u001b[39;00m\u001b[38;5;21;01mcontract_retrievers\u001b[39;00m \u001b[38;5;28;01mimport\u001b[39;00m retrieve_guild_by_address\n\u001b[0;32m----> 4\u001b[0m \u001b[38;5;28;01mwith\u001b[39;00m \u001b[38;5;28;43mopen\u001b[39;49m\u001b[43m(\u001b[49m\u001b[38;5;124;43m\"\u001b[39;49m\u001b[38;5;124;43mconfig_file.yaml\u001b[39;49m\u001b[38;5;124;43m\"\u001b[39;49m\u001b[43m,\u001b[49m\u001b[43m \u001b[49m\u001b[38;5;124;43m\"\u001b[39;49m\u001b[38;5;124;43mr\u001b[39;49m\u001b[38;5;124;43m\"\u001b[39;49m\u001b[43m)\u001b[49m \u001b[38;5;28;01mas\u001b[39;00m file:\n\u001b[1;32m      5\u001b[0m     config \u001b[38;5;241m=\u001b[39m yaml\u001b[38;5;241m.\u001b[39msafe_load(file)\n\u001b[1;32m      7\u001b[0m guild_contract: GuildContract \u001b[38;5;241m=\u001b[39m retrieve_guild_by_address(config[\u001b[38;5;124m\"\u001b[39m\u001b[38;5;124mdeployedGuildAddress\u001b[39m\u001b[38;5;124m\"\u001b[39m])\n",
      "File \u001b[0;32m~/Documents/guilds_py/.venv/lib/python3.11/site-packages/IPython/core/interactiveshell.py:324\u001b[0m, in \u001b[0;36m_modified_open\u001b[0;34m(file, *args, **kwargs)\u001b[0m\n\u001b[1;32m    317\u001b[0m \u001b[38;5;28;01mif\u001b[39;00m file \u001b[38;5;129;01min\u001b[39;00m {\u001b[38;5;241m0\u001b[39m, \u001b[38;5;241m1\u001b[39m, \u001b[38;5;241m2\u001b[39m}:\n\u001b[1;32m    318\u001b[0m     \u001b[38;5;28;01mraise\u001b[39;00m \u001b[38;5;167;01mValueError\u001b[39;00m(\n\u001b[1;32m    319\u001b[0m         \u001b[38;5;124mf\u001b[39m\u001b[38;5;124m\"\u001b[39m\u001b[38;5;124mIPython won\u001b[39m\u001b[38;5;124m'\u001b[39m\u001b[38;5;124mt let you open fd=\u001b[39m\u001b[38;5;132;01m{\u001b[39;00mfile\u001b[38;5;132;01m}\u001b[39;00m\u001b[38;5;124m by default \u001b[39m\u001b[38;5;124m\"\u001b[39m\n\u001b[1;32m    320\u001b[0m         \u001b[38;5;124m\"\u001b[39m\u001b[38;5;124mas it is likely to crash IPython. If you know what you are doing, \u001b[39m\u001b[38;5;124m\"\u001b[39m\n\u001b[1;32m    321\u001b[0m         \u001b[38;5;124m\"\u001b[39m\u001b[38;5;124myou can use builtins\u001b[39m\u001b[38;5;124m'\u001b[39m\u001b[38;5;124m open.\u001b[39m\u001b[38;5;124m\"\u001b[39m\n\u001b[1;32m    322\u001b[0m     )\n\u001b[0;32m--> 324\u001b[0m \u001b[38;5;28;01mreturn\u001b[39;00m \u001b[43mio_open\u001b[49m\u001b[43m(\u001b[49m\u001b[43mfile\u001b[49m\u001b[43m,\u001b[49m\u001b[43m \u001b[49m\u001b[38;5;241;43m*\u001b[39;49m\u001b[43margs\u001b[49m\u001b[43m,\u001b[49m\u001b[43m \u001b[49m\u001b[38;5;241;43m*\u001b[39;49m\u001b[38;5;241;43m*\u001b[39;49m\u001b[43mkwargs\u001b[49m\u001b[43m)\u001b[49m\n",
      "\u001b[0;31mFileNotFoundError\u001b[0m: [Errno 2] No such file or directory: 'config_file.yaml'"
     ]
    }
   ],
   "source": [
    "from utils.contract_retrievers import retrieve_guild_by_address\n",
    "\n",
    "\n",
    "with open(\"config_file.yaml\", \"r\") as file:\n",
    "    config = yaml.safe_load(file)\n",
    "\n",
    "guild_contract: GuildContract = retrieve_guild_by_address(config[\"deployedGuildAddress\"])\n",
    "guild_address = Address(config[\"deployedGuildAddress\"])"
   ]
  },
  {
   "cell_type": "markdown",
   "metadata": {},
   "source": [
    "GUILD QUERY"
   ]
  },
  {
   "cell_type": "code",
   "execution_count": 8,
   "metadata": {},
   "outputs": [
    {
     "data": {
      "text/plain": [
       "'5445535455544b2d343737643037'"
      ]
     },
     "execution_count": 8,
     "metadata": {},
     "output_type": "execute_result"
    }
   ],
   "source": [
    "from multiversx_sdk import SmartContractTransactionsFactory\n",
    "from utilities import get_default_data\n",
    "from utils.contract_data_fetchers import GuildContractDataFetcher\n",
    "\n",
    "(\n",
    "    configuration,\n",
    "    test_address,\n",
    "    guild_factory_address,\n",
    "    provider,\n",
    "    network_config,\n",
    "    signer,\n",
    "    nonce_holder,\n",
    "    sc_factory,\n",
    ") = get_default_data()\n",
    "\n",
    "# context.network_provider.proxy.get_data('getFarmTokenId')\n",
    "guild_contract_address = Address(configuration[\"guildScAddressModel\"])\n",
    "GuildContractDataFetcher(guild_contract_address,context.network_provider.proxy.url).get_data(\"getFarmingTokenId\")\n"
   ]
  },
  {
   "cell_type": "markdown",
   "metadata": {},
   "source": [
    "PAUSE ALL GUILDS"
   ]
  },
  {
   "cell_type": "code",
   "execution_count": null,
   "metadata": {},
   "outputs": [],
   "source": [
    "\n",
    "from contracts.farm_contract import FarmContract\n",
    "# from contracts.guild_contract import GuildContract\n",
    "user.address = Address(\"erd1awuuva7dhnlun9huwx7uefwpkhzjx9d3phenujgkv3zvx9tvsatsw420qt\")\n",
    "user.sync_nonce(context.network_provider.proxy)\n",
    "\n",
    "guild_contract: FarmContract = retrieve_farm_by_address(config_file[\"guildScAddressModel\"])\n",
    "# guild_contract.address = Address(config_file[\"deployedGuildAddress\"])\n",
    "\n",
    "tx_hash = guild_contract.pause(user, context.network_provider.proxy)"
   ]
  },
  {
   "cell_type": "markdown",
   "metadata": {},
   "source": [
    "RESUME ALL GUILDS"
   ]
  },
  {
   "cell_type": "code",
   "execution_count": null,
   "metadata": {},
   "outputs": [],
   "source": [
    "import yaml\n",
    "from contracts.guild_contract import GuildContract\n",
    "\n",
    "\n",
    "with open(\"config_file.yaml\", \"r\") as file:\n",
    "    config_file = yaml.safe_load(file)\n",
    "\n",
    "\n",
    "user.sync_nonce(context.network_provider.proxy)\n",
    "context.deployer_account.sync_nonce(context.network_provider.proxy)\n",
    "\n",
    "guild_contract: GuildContract = retrieve_farm_by_address(config_file[\"deployedGuildAddress\"])\n",
    "# guild_contract.address = Address(config_file[\"deployedGuildAddress\"])\n",
    "\n",
    "tx_hash = guild_contract.resume(user, context.network_provider.proxy)"
   ]
  },
  {
   "cell_type": "markdown",
   "metadata": {},
   "source": [
    "SET TIERS APR"
   ]
  },
  {
   "cell_type": "code",
   "execution_count": 21,
   "metadata": {},
   "outputs": [
    {
     "name": "stdout",
     "output_type": "stream",
     "text": [
      "Set User Tiers transaction hash: 488480e3c70c5defa06e255b250a2fddb60593c5d99a1dcb078ee5360a0318be\n",
      "\n"
     ]
    }
   ],
   "source": [
    "from multiversx_sdk import (\n",
    "    TransactionComputer,\n",
    ")\n",
    "from utils.contract_data_fetchers import GuildConfigDataFetcher\n",
    "\n",
    "import yaml\n",
    "\n",
    "from utilities import get_default_data\n",
    "\n",
    "(\n",
    "    config,\n",
    "    test_address,\n",
    "    guild_factory_address,\n",
    "    provider,\n",
    "    network_config,\n",
    "    signer,\n",
    "    nonce_holder,\n",
    "    sc_factory,\n",
    ") = get_default_data()\n",
    "\n",
    "guild_config_address = Address(config[\"guildConfigScAddressModel\"])\n",
    "\n",
    "# arguments=[2500, 1000, 4000, 1250, 10000, 1500],\n",
    "\n",
    "add_user_tiers_tx = sc_factory.create_transaction_for_execute(\n",
    "    sender=test_address,\n",
    "    contract=guild_factory_address,\n",
    "    function=\"callConfigFunction\",\n",
    "    gas_limit=50000000,\n",
    "    arguments=[\"setUserTierApr\", 4000, 1500],\n",
    ")\n",
    "\n",
    "\n",
    "\n",
    "add_user_tiers_tx.nonce = nonce_holder.get_nonce_then_increment()\n",
    "add_user_tiers_tx.signature = signer.sign(\n",
    "    TransactionComputer().compute_bytes_for_signing(add_user_tiers_tx)\n",
    ")\n",
    "\n",
    "result = provider.send_transaction(add_user_tiers_tx)\n",
    "print(\"Set User Tiers transaction hash:\", result)\n",
    "\n",
    "userTiers = GuildConfigDataFetcher(guild_config_address,context.network_provider.proxy.url).get_data(\"getUserTiers\")\n",
    "print(userTiers)"
   ]
  },
  {
   "cell_type": "code",
   "execution_count": null,
   "metadata": {},
   "outputs": [],
   "source": [
    "#GUILD FACTORY QUERIES\n",
    "from multiversx_sdk import SmartContractTransactionsFactory\n",
    "from utilities import get_default_data\n",
    "from utils.contract_data_fetchers import GuildFactoryDataFetcher\n",
    "\n",
    "(\n",
    "    configuration,\n",
    "    test_address,\n",
    "    guild_factory_address,\n",
    "    provider,\n",
    "    network_config,\n",
    "    signer,\n",
    "    nonce_holder,\n",
    "    sc_factory,\n",
    ") = get_default_data()\n",
    "\n",
    "# context.network_provider.proxy.get_data('getFarmTokenId')\n",
    "guild_contract_address = Address(configuration[\"guildFactoryScAddress\"])\n",
    "GuildFactoryDataFetcher(guild_contract_address,context.network_provider.proxy.url).get_data(\"getConfigAddress\")\n"
   ]
  },
  {
   "cell_type": "markdown",
   "metadata": {},
   "source": [
    "UNSTAKE FROM GUILD"
   ]
  },
  {
   "cell_type": "code",
   "execution_count": null,
   "metadata": {},
   "outputs": [],
   "source": [
    "from contracts.guild_contract import GuildContract\n",
    "from events.farm_events import EnterFarmEvent, ExitFarmEvent\n",
    "from utils.contract_retrievers import retrieve_guild_by_address\n",
    "from utils.utils_tx import ESDTToken\n",
    "\n",
    "guild_address = Address(config_file[\"deployedGuildAddress\"])\n",
    "\n",
    "user.address = Address(\"erd1j8m8clpzxp4wpuv2hesw36whre6nysga9ggqrmy8n0shm4rgyues8pe5nd\")\n",
    "user.sync_nonce(context.network_provider.proxy)\n",
    "\n",
    "farm_tk_balance, farm_tk_nonce = 0, 0\n",
    "tokens_in_account = get_all_token_nonces_details_for_account(guild_contract.farmToken, user.address, context.network_provider.proxy)\n",
    "print(f'Found {len(tokens_in_account)} positions of {guild_contract.farmToken} in account')\n",
    "print(tokens_in_account)\n",
    "for token in tokens_in_account:\n",
    "    if int(token['balance']) > 0:\n",
    "        farm_tk_balance = int(token['balance'])\n",
    "        farm_tk_nonce = token['nonce']\n",
    "        event = ExitFarmEvent(guild_contract.farmToken, farm_tk_balance, farm_tk_nonce, '')\n",
    "        tx_hash = guild_contract.exitFarm(context.network_provider.proxy, user, event)\n",
    "        # break\n",
    "\n",
    "\n",
    "# "
   ]
  },
  {
   "cell_type": "markdown",
   "metadata": {},
   "source": [
    "UPGRADE"
   ]
  },
  {
   "cell_type": "code",
   "execution_count": null,
   "metadata": {},
   "outputs": [],
   "source": [
    "from multiversx_sdk import CodeMetadata\n",
    "from utils.utils_tx import upgrade_call\n",
    "\n",
    "\n",
    "guild_address = Address.from_bech32(configuration[\"guildConfigScAddressModel\"])\n",
    "\n",
    "context.deployer_account.address = user.address\n",
    "context.deployer_account.sync_nonce(context.network_provider.proxy)\n",
    "# hash = contract.contract_upgrade(context.deployer_account, context.network_provider.proxy, config.DUMMY_PROXY, [])\n",
    "\n",
    "metadata = CodeMetadata(upgradeable=True, payable_by_contract=True, readable=True)\n",
    "gas_limit = 300000000\n",
    "\n",
    "# if no_init:\n",
    "#         arguments = []\n",
    "# else:\n",
    "arguments = []\n",
    "\n",
    "bytecode = Path(\n",
    "    \"/home/multiversx/Documents/guilds_py/wasm/guild-sc-config.wasm\"\n",
    "    )\n",
    "\n",
    "tx_hash = upgrade_call(\"guild\", context.network_provider.proxy, gas_limit, context.deployer_account, guild_address,\n",
    "                               bytecode, metadata, arguments)\n"
   ]
  },
  {
   "cell_type": "markdown",
   "metadata": {},
   "source": [
    "END REWARDS"
   ]
  },
  {
   "cell_type": "code",
   "execution_count": null,
   "metadata": {},
   "outputs": [],
   "source": [
    "from utils.utils_chain import Account, WrapperAddress as Address, get_all_token_nonces_details_for_account\n",
    "from contracts.farm_contract import ClaimRewardsFarmEvent\n",
    "\n",
    "user.address = Address(\"erd1awuuva7dhnlun9huwx7uefwpkhzjx9d3phenujgkv3zvx9tvsatsw420qt\")\n",
    "user.sync_nonce(context.network_provider.proxy)\n",
    "\n",
    "tx_hash = guild_contract.end_produce_rewards(user, context.network_provider.proxy)"
   ]
  },
  {
   "cell_type": "code",
   "execution_count": null,
   "metadata": {},
   "outputs": [],
   "source": [
    "#GET GUILD CONFIG STATS\n",
    "\n",
    "#GET GUILD FACTORY STATS\n",
    "\n",
    "#GET GUILD SC STATS\n",
    "\n",
    "guild_stats = guild_contract.get_all_stats(context.network_provider.proxy)\n",
    "\n",
    "print(guild_stats)\n",
    "\n",
    "\n",
    "# farm_token_nonce, farm_token_amount = get_token(proxy_contract.proxy_farm_token, int(looking_for_nonce, 16))\n",
    "\n",
    "# farm_dec_attributes, lp_dec_attributes, lktk_dec_attributes = guild_contract.get_all_decoded_farm_token_attributes_from_api(context.network_provider.proxy, get_nonce(guild_contract.address))\n"
   ]
  },
  {
   "cell_type": "markdown",
   "metadata": {},
   "source": [
    "CANCEL UNBOND FARM"
   ]
  },
  {
   "cell_type": "code",
   "execution_count": null,
   "metadata": {},
   "outputs": [],
   "source": [
    "from contracts.guild_contract import GuildContract\n",
    "from events.farm_events import EnterFarmEvent, ExitFarmEvent\n",
    "from utils.contract_retrievers import retrieve_guild_by_address\n",
    "from utils.utils_tx import ESDTToken\n",
    "from utils.contract_data_fetchers import GuildContractDataFetcher, GuildFactoryDataFetcher\n",
    "\n",
    "\n",
    "unbond_token = hex_to_string(GuildContractDataFetcher(guild_address,context.network_provider.proxy.url).get_data(\"getUnbondTokenId\"))\n",
    "\n",
    "# user.address = Address(\"erd1kvy5mas5z5ul3tt0ejvtrqcnrqqq6nwmwlxu7xpkqysnp3xwc06sgja0vu\")\n",
    "user.sync_nonce(context.network_provider.proxy)\n",
    "\n",
    "\n",
    "unbond_tk_balance, unbond_tk_nonce = 0, 0\n",
    "tokens_in_account = get_all_token_nonces_details_for_account(unbond_token, user.address, context.network_provider.proxy)\n",
    "print(tokens_in_account)\n",
    "\n",
    "print(f'Found {len(tokens_in_account)} positions of {unbond_token} in account')\n",
    "for token in tokens_in_account:\n",
    "    if int(token['balance']) > unbond_tk_balance:\n",
    "        unbond_tk_balance = int(token['balance'])\n",
    "        unbond_tk_nonce = token['nonce']\n",
    "        event = ExitFarmEvent(unbond_token, unbond_tk_balance, unbond_tk_nonce, '')\n",
    "        tx_hash = guild_contract.cancelUnbondFarm(context.network_provider.proxy, user, event)\n",
    "        # break\n",
    "\n",
    "print(unbond_tk_balance)\n",
    "\n",
    "# event = ExitFarmEvent(unbond_token, unbond_tk_balance, unbond_tk_nonce, '')\n",
    "\n",
    "# tx_hash = guild_contract.unbondFarm(context.network_provider.proxy, user, event)"
   ]
  },
  {
   "cell_type": "markdown",
   "metadata": {},
   "source": [
    "SET MIN/MAX STAKE"
   ]
  },
  {
   "cell_type": "code",
   "execution_count": null,
   "metadata": {},
   "outputs": [],
   "source": [
    "from utils.utils_chain import Account, WrapperAddress as Address, get_all_token_nonces_details_for_account\n",
    "from contracts.farm_contract import ClaimRewardsFarmEvent\n",
    "\n",
    "user.address = Address(\"erd1awuuva7dhnlun9huwx7uefwpkhzjx9d3phenujgkv3zvx9tvsatsw420qt\")\n",
    "user.sync_nonce(context.network_provider.proxy)\n",
    "\n",
    "tx_hash = guild_contract.set(user, context.network_provider.proxy)"
   ]
  },
  {
   "cell_type": "markdown",
   "metadata": {},
   "source": [
    "CHECK GUILD"
   ]
  },
  {
   "cell_type": "code",
   "execution_count": null,
   "metadata": {},
   "outputs": [],
   "source": [
    "from utils.utils_chain import Account, WrapperAddress as Address, get_all_token_nonces_details_for_account\n",
    "from contracts.farm_contract import ClaimRewardsFarmEvent\n",
    "\n",
    "# user.address = Address(\"erd1awuuva7dhnlun9huwx7uefwpkhzjx9d3phenujgkv3zvx9tvsatsw420qt\")\n",
    "user.sync_nonce(context.network_provider.proxy)\n",
    "\n",
    "tx_hash = guild_contract.is_guild_closing(user, context.network_provider.proxy)"
   ]
  },
  {
   "cell_type": "markdown",
   "metadata": {},
   "source": [
    "TRANSFER TOKENS TO FACTORY"
   ]
  },
  {
   "cell_type": "code",
   "execution_count": null,
   "metadata": {},
   "outputs": [],
   "source": [
    "from multiversx_sdk import ProxyNetworkProvider, Token, TokenTransfer\n",
    "\n",
    "from utilities import to_decimal\n",
    "\n",
    "# Signing wallet bech32 address\n",
    "test_address = Address.from_bech32(config[\"signingWalletAddress\"])\n",
    "guild_factory_address = Address.from_bech32(config[\"guildFactoryScAddress\"])\n",
    "\n",
    "# Network provider\n",
    "provider = ProxyNetworkProvider(config[\"defaultPROXY\"])\n",
    "\n",
    "# Get account for the signing wallet\n",
    "test_account = provider.get_account(test_address)\n",
    "\n",
    "# Get network configuration\n",
    "network_config = provider.get_network_config()\n",
    "\n",
    "# Load the signer from the pem file for the signing wallet\n",
    "signer = UserSigner.from_pem_file(\n",
    "    Path(config[\"signingWalletPemPath\"]),\n",
    ")\n",
    "\n",
    "# Nonce holder\n",
    "nonce_holder = AccountNonceHolder(test_account.nonce)\n",
    "\n",
    "farming_token = Token(config[\"farmingToken\"])\n",
    "farming_token_transfer = TokenTransfer(farming_token, to_decimal(10000, 18))\n",
    "transfer_rewards_tx = sc_factory.create_transaction_for_execute(\n",
    "    sender=test_address,\n",
    "    contract=guild_factory_address,\n",
    "    function=\"depositRewardsAdmins\",\n",
    "    gas_limit=10000000,\n",
    "    token_transfers=[farming_token_transfer],\n",
    ")\n",
    "\n",
    "transfer_rewards_tx.nonce = nonce_holder.get_nonce_then_increment()\n",
    "\n",
    "transfer_rewards_tx.signature = signer.sign(\n",
    "    TransactionComputer().compute_bytes_for_signing(transfer_rewards_tx)\n",
    ")\n",
    "\n",
    "result = provider.send_transaction(transfer_rewards_tx)"
   ]
  },
  {
   "cell_type": "markdown",
   "metadata": {},
   "source": [
    "TOPUP REWARDS"
   ]
  },
  {
   "cell_type": "code",
   "execution_count": 4,
   "metadata": {},
   "outputs": [
    {
     "name": "stderr",
     "output_type": "stream",
     "text": [
      "\u001b[38;20m2024-07-30 12:33:44,692 - DEBUG - Account.sync_nonce() done: 46\u001b[0m\n",
      "\u001b[92m2024-07-30 12:33:44,693 - INFO - Topup rewards in stake contract\u001b[0m\n",
      "\u001b[38;20m2024-07-30 12:33:44,695 - DEBUG - Topup rewards in stake contract\u001b[0m\n",
      "\u001b[38;20m2024-07-30 12:33:44,897 - DEBUG - Contract call arguments: []\u001b[0m\n",
      "The transaction builders are deprecated and will be removed in a later release. Use the transaction factories instead.\n",
      "\u001b[92m2024-07-30 12:33:45,054 - INFO - No explorer known for https://proxy-shadowfork-three.elrond.ro. transaction raw path: https://proxy-shadowfork-three.elrond.ro/transaction/61a982a28780cfcac323935cc4708a2a087a01eade2d4bc8f2b9df466542bc89\u001b[0m\n"
     ]
    }
   ],
   "source": [
    "from utils.utils_chain import Account, WrapperAddress as Address, get_all_token_nonces_details_for_account\n",
    "from contracts.farm_contract import ClaimRewardsFarmEvent\n",
    "from utilities import to_decimal\n",
    "\n",
    "\n",
    "# user.address = Address(\"erd1awuuva7dhnlun9huwx7uefwpkhzjx9d3phenujgkv3zvx9tvsatsw420qt\")\n",
    "user.sync_nonce(context.network_provider.proxy)\n",
    "\n",
    "tx_hash = guild_contract.topup_rewards(user, context.network_provider.proxy, to_decimal(10000, 18))"
   ]
  }
 ],
 "metadata": {
  "kernelspec": {
   "display_name": ".venv",
   "language": "python",
   "name": "python3"
  },
  "language_info": {
   "codemirror_mode": {
    "name": "ipython",
    "version": 3
   },
   "file_extension": ".py",
   "mimetype": "text/x-python",
   "name": "python",
   "nbconvert_exporter": "python",
   "pygments_lexer": "ipython3",
   "version": "3.11.6"
  }
 },
 "nbformat": 4,
 "nbformat_minor": 2
}
