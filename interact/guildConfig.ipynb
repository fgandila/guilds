{
 "cells": [
  {
   "cell_type": "code",
   "execution_count": 2,
   "metadata": {},
   "outputs": [
    {
     "ename": "ModuleNotFoundError",
     "evalue": "No module named 'utilities'",
     "output_type": "error",
     "traceback": [
      "\u001b[0;31m---------------------------------------------------------------------------\u001b[0m",
      "\u001b[0;31mModuleNotFoundError\u001b[0m                       Traceback (most recent call last)",
      "Cell \u001b[0;32mIn[2], line 4\u001b[0m\n\u001b[1;32m      1\u001b[0m \u001b[38;5;28;01mimport\u001b[39;00m \u001b[38;5;21;01msys\u001b[39;00m\n\u001b[1;32m      2\u001b[0m \u001b[38;5;28;01mfrom\u001b[39;00m \u001b[38;5;21;01mpathlib\u001b[39;00m \u001b[38;5;28;01mimport\u001b[39;00m Path\n\u001b[0;32m----> 4\u001b[0m \u001b[38;5;28;01mfrom\u001b[39;00m \u001b[38;5;21;01mutilities\u001b[39;00m \u001b[38;5;28;01mimport\u001b[39;00m get_default_data\n\u001b[1;32m      6\u001b[0m sys\u001b[38;5;241m.\u001b[39mpath\u001b[38;5;241m.\u001b[39mappend(\u001b[38;5;28mstr\u001b[39m(Path\u001b[38;5;241m.\u001b[39mcwd()\u001b[38;5;241m.\u001b[39mparent\u001b[38;5;241m.\u001b[39mparent\u001b[38;5;241m.\u001b[39mabsolute()))\n\u001b[1;32m      7\u001b[0m \u001b[38;5;28;01mimport\u001b[39;00m \u001b[38;5;21;01mconfig\u001b[39;00m\n",
      "\u001b[0;31mModuleNotFoundError\u001b[0m: No module named 'utilities'"
     ]
    }
   ],
   "source": [
    "import sys\n",
    "from pathlib import Path\n",
    "\n",
    "sys.path.append(str(Path.cwd().parent.absolute()))\n",
    "import config\n",
    "import yaml\n",
    "\n",
    "from context import Context\n",
    "from utils.utils_chain import WrapperAddress as Address, Account, hex_to_string\n",
    "from utils.utils_chain import nominated_amount\n",
    "from utils.contract_retrievers import retrieve_farm_by_address\n",
    "from utils.utils_chain import get_token_details_for_address, get_all_token_nonces_details_for_account\n",
    "from utils.utils_tx import ESDTToken\n",
    "from contracts.guild_contract import GuildContract\n",
    "from utilities import get_default_data\n",
    "\n",
    "context = Context()\n",
    "\n",
    "(\n",
    "    configuration,\n",
    "    test_address,\n",
    "    guild_factory_address,\n",
    "    provider,\n",
    "    network_config,\n",
    "    signer,\n",
    "    nonce_holder,\n",
    "    sc_factory,\n",
    ") = get_default_data()"
   ]
  },
  {
   "cell_type": "code",
   "execution_count": 2,
   "metadata": {},
   "outputs": [
    {
     "name": "stderr",
     "output_type": "stream",
     "text": [
      "\u001b[38;20m2024-07-30 12:33:35,849 - DEBUG - Account.sync_nonce() done: 46\u001b[0m\n"
     ]
    }
   ],
   "source": [
    "user2 = Account(pem_file=\"/home/multiversx/Documents/guilds_py/wallets/wallet2.pem\")\n",
    "user2.address = Address(\"erd1upgm0ghcvsmnup2a22pjrla7turpp8mvzn5jqh0ahrsrv0tegypqmphthz\")\n",
    "\n",
    "user = Account(pem_file=\"/home/multiversx/Documents/guilds_py/wallets/wallet1.pem\")\n",
    "user.address = Address(\"erd1a2x0azarwsag9svwdn23pjramat7zcjceqd44yh4g7jx4pugkg2s3jwlel\")\n",
    "user.sync_nonce(context.network_provider.proxy)"
   ]
  },
  {
   "cell_type": "code",
   "execution_count": 3,
   "metadata": {},
   "outputs": [],
   "source": [
    "from utils.contract_retrievers import retrieve_guild_by_address\n",
    "\n",
    "\n",
    "with open(\"config_file.yaml\", \"r\") as file:\n",
    "    config = yaml.safe_load(file)\n",
    "\n",
    "guild_contract: GuildContract = retrieve_guild_by_address(config[\"deployedGuildAddress\"])\n",
    "guild_address = Address(config[\"deployedGuildAddress\"])"
   ]
  },
  {
   "cell_type": "markdown",
   "metadata": {},
   "source": [
    "GUILD QUERY"
   ]
  },
  {
   "cell_type": "code",
   "execution_count": null,
   "metadata": {},
   "outputs": [],
   "source": [
    "from multiversx_sdk import SmartContractTransactionsFactory\n",
    "from utilities import get_default_data\n",
    "from utils.contract_data_fetchers import GuildContractDataFetcher\n",
    "\n",
    "(\n",
    "    configuration,\n",
    "    test_address,\n",
    "    guild_factory_address,\n",
    "    provider,\n",
    "    network_config,\n",
    "    signer,\n",
    "    nonce_holder,\n",
    "    sc_factory,\n",
    ") = get_default_data()\n",
    "\n",
    "# context.network_provider.proxy.get_data('getFarmTokenId')\n",
    "guild_contract_address = Address(configuration[\"guildScAddressModel\"])\n",
    "GuildContractDataFetcher(guild_contract_address,context.network_provider.proxy.url).get_data(\"getFarmingTokenId\")\n"
   ]
  },
  {
   "cell_type": "markdown",
   "metadata": {},
   "source": [
    "PAUSE ALL GUILDS"
   ]
  },
  {
   "cell_type": "code",
   "execution_count": null,
   "metadata": {},
   "outputs": [],
   "source": [
    "\n",
    "from contracts.farm_contract import FarmContract\n",
    "# from contracts.guild_contract import GuildContract\n",
    "user.address = Address(\"erd1awuuva7dhnlun9huwx7uefwpkhzjx9d3phenujgkv3zvx9tvsatsw420qt\")\n",
    "user.sync_nonce(context.network_provider.proxy)\n",
    "\n",
    "guild_contract: FarmContract = retrieve_farm_by_address(config_file[\"guildScAddressModel\"])\n",
    "# guild_contract.address = Address(config_file[\"deployedGuildAddress\"])\n",
    "\n",
    "tx_hash = guild_contract.pause(user, context.network_provider.proxy)"
   ]
  },
  {
   "cell_type": "markdown",
   "metadata": {},
   "source": [
    "RESUME ALL GUILDS"
   ]
  },
  {
   "cell_type": "code",
   "execution_count": null,
   "metadata": {},
   "outputs": [],
   "source": [
    "import yaml\n",
    "from contracts.guild_contract import GuildContract\n",
    "\n",
    "\n",
    "with open(\"config_file.yaml\", \"r\") as file:\n",
    "    config_file = yaml.safe_load(file)\n",
    "\n",
    "\n",
    "user.sync_nonce(context.network_provider.proxy)\n",
    "context.deployer_account.sync_nonce(context.network_provider.proxy)\n",
    "\n",
    "guild_contract: GuildContract = retrieve_farm_by_address(config_file[\"deployedGuildAddress\"])\n",
    "# guild_contract.address = Address(config_file[\"deployedGuildAddress\"])\n",
    "\n",
    "tx_hash = guild_contract.resume(user, context.network_provider.proxy)"
   ]
  },
  {
   "cell_type": "markdown",
   "metadata": {},
   "source": [
    "Set admin"
   ]
  },
  {
   "cell_type": "code",
   "execution_count": null,
   "metadata": {},
   "outputs": [],
   "source": [
    "from multiversx_sdk.core.transaction_builders import ContractCallBuilder, ESDTNFTTransferBuilder, DefaultTransactionBuildersConfiguration\n",
    "from multiversx_sdk import AccountNonceHolder, TokenPayment, TransactionComputer, UserSigner\n",
    "\n",
    "\n",
    "newAdmin = Account(pem_file=\"~/Documents/sh1.pem\", pem_index=0)\n",
    "newAdmin = Address(\"erd1qrat8pxccn8mj7n47v38uw7q4nkej6zq6mny3ljkj29uzdf6s42srfja7q\")\n",
    "config = DefaultTransactionBuildersConfiguration(chain_id=\"1\")\n",
    "user_signer = UserSigner.from_pem_file(Path(\"~/Documents/sh1.pem\"))\n",
    "user.sync_nonce(context.network_provider.proxy)\n",
    "\n",
    "builder = ContractCallBuilder(\n",
    "    config,\n",
    "    contract=Address(guild_contract.address),\n",
    "    function_name=\"addAdmin\",\n",
    "    caller=user.address,\n",
    "    nonce=user.nonce,\n",
    "    call_arguments=[newAdmin],\n",
    "    gas_limit=30000000\n",
    ")\n",
    "\n",
    "tx = builder.build()\n",
    "tx_computer = TransactionComputer()\n",
    "tx.signature = user_signer.sign(tx_computer.compute_bytes_for_signing(tx))\n",
    "\n",
    "hash = context.network_provider.proxy.send_transaction(tx)\n"
   ]
  },
  {
   "cell_type": "code",
   "execution_count": null,
   "metadata": {},
   "outputs": [],
   "source": [
    "#GUILD FACTORY QUERIES\n",
    "from multiversx_sdk import SmartContractTransactionsFactory\n",
    "from utilities import get_default_data\n",
    "from utils.contract_data_fetchers import GuildFactoryDataFetcher\n",
    "\n",
    "(\n",
    "    configuration,\n",
    "    test_address,\n",
    "    guild_factory_address,\n",
    "    provider,\n",
    "    network_config,\n",
    "    signer,\n",
    "    nonce_holder,\n",
    "    sc_factory,\n",
    ") = get_default_data()\n",
    "\n",
    "# context.network_provider.proxy.get_data('getFarmTokenId')\n",
    "guild_contract_address = Address(configuration[\"guildFactoryScAddress\"])\n",
    "GuildFactoryDataFetcher(guild_contract_address,context.network_provider.proxy.url).get_data(\"getConfigAddress\")\n"
   ]
  },
  {
   "cell_type": "markdown",
   "metadata": {},
   "source": [
    "UNSTAKE FROM GUILD"
   ]
  },
  {
   "cell_type": "code",
   "execution_count": null,
   "metadata": {},
   "outputs": [],
   "source": [
    "from contracts.guild_contract import GuildContract\n",
    "from events.farm_events import EnterFarmEvent, ExitFarmEvent\n",
    "from utils.contract_retrievers import retrieve_guild_by_address\n",
    "from utils.utils_tx import ESDTToken\n",
    "\n",
    "guild_address = Address(config_file[\"deployedGuildAddress\"])\n",
    "\n",
    "user.address = Address(\"erd1j8m8clpzxp4wpuv2hesw36whre6nysga9ggqrmy8n0shm4rgyues8pe5nd\")\n",
    "user.sync_nonce(context.network_provider.proxy)\n",
    "\n",
    "farm_tk_balance, farm_tk_nonce = 0, 0\n",
    "tokens_in_account = get_all_token_nonces_details_for_account(guild_contract.farmToken, user.address, context.network_provider.proxy)\n",
    "print(f'Found {len(tokens_in_account)} positions of {guild_contract.farmToken} in account')\n",
    "print(tokens_in_account)\n",
    "for token in tokens_in_account:\n",
    "    if int(token['balance']) > 0:\n",
    "        farm_tk_balance = int(token['balance'])\n",
    "        farm_tk_nonce = token['nonce']\n",
    "        event = ExitFarmEvent(guild_contract.farmToken, farm_tk_balance, farm_tk_nonce, '')\n",
    "        tx_hash = guild_contract.exitFarm(context.network_provider.proxy, user, event)\n",
    "        # break\n",
    "\n",
    "\n",
    "# "
   ]
  },
  {
   "cell_type": "markdown",
   "metadata": {},
   "source": [
    "UPGRADE"
   ]
  },
  {
   "cell_type": "code",
   "execution_count": null,
   "metadata": {},
   "outputs": [],
   "source": [
    "from multiversx_sdk import CodeMetadata\n",
    "from utils.utils_tx import upgrade_call\n",
    "\n",
    "\n",
    "guild_address = Address.from_bech32(configuration[\"guildConfigScAddressModel\"])\n",
    "\n",
    "context.deployer_account.address = user.address\n",
    "context.deployer_account.sync_nonce(context.network_provider.proxy)\n",
    "# hash = contract.contract_upgrade(context.deployer_account, context.network_provider.proxy, config.DUMMY_PROXY, [])\n",
    "\n",
    "metadata = CodeMetadata(upgradeable=True, payable_by_contract=True, readable=True)\n",
    "gas_limit = 300000000\n",
    "\n",
    "# if no_init:\n",
    "#         arguments = []\n",
    "# else:\n",
    "arguments = []\n",
    "\n",
    "bytecode = Path(\n",
    "    \"/home/multiversx/Documents/guilds_py/wasm/guild-sc-config.wasm\"\n",
    "    )\n",
    "\n",
    "tx_hash = upgrade_call(\"guild\", context.network_provider.proxy, gas_limit, context.deployer_account, guild_address,\n",
    "                               bytecode, metadata, arguments)\n"
   ]
  },
  {
   "cell_type": "markdown",
   "metadata": {},
   "source": [
    "END REWARDS"
   ]
  },
  {
   "cell_type": "code",
   "execution_count": null,
   "metadata": {},
   "outputs": [],
   "source": [
    "from utils.utils_chain import Account, WrapperAddress as Address, get_all_token_nonces_details_for_account\n",
    "from contracts.farm_contract import ClaimRewardsFarmEvent\n",
    "\n",
    "user.address = Address(\"erd1awuuva7dhnlun9huwx7uefwpkhzjx9d3phenujgkv3zvx9tvsatsw420qt\")\n",
    "user.sync_nonce(context.network_provider.proxy)\n",
    "\n",
    "tx_hash = guild_contract.end_produce_rewards(user, context.network_provider.proxy)"
   ]
  },
  {
   "cell_type": "code",
   "execution_count": null,
   "metadata": {},
   "outputs": [],
   "source": [
    "#GET GUILD CONFIG STATS\n",
    "\n",
    "#GET GUILD FACTORY STATS\n",
    "\n",
    "#GET GUILD SC STATS\n",
    "\n",
    "guild_stats = guild_contract.get_all_stats(context.network_provider.proxy)\n",
    "\n",
    "print(guild_stats)\n",
    "\n",
    "\n",
    "# farm_token_nonce, farm_token_amount = get_token(proxy_contract.proxy_farm_token, int(looking_for_nonce, 16))\n",
    "\n",
    "# farm_dec_attributes, lp_dec_attributes, lktk_dec_attributes = guild_contract.get_all_decoded_farm_token_attributes_from_api(context.network_provider.proxy, get_nonce(guild_contract.address))\n"
   ]
  },
  {
   "cell_type": "markdown",
   "metadata": {},
   "source": [
    "CANCEL UNBOND FARM"
   ]
  },
  {
   "cell_type": "code",
   "execution_count": null,
   "metadata": {},
   "outputs": [],
   "source": [
    "from contracts.guild_contract import GuildContract\n",
    "from events.farm_events import EnterFarmEvent, ExitFarmEvent\n",
    "from utils.contract_retrievers import retrieve_guild_by_address\n",
    "from utils.utils_tx import ESDTToken\n",
    "from utils.contract_data_fetchers import GuildContractDataFetcher, GuildFactoryDataFetcher\n",
    "\n",
    "\n",
    "unbond_token = hex_to_string(GuildContractDataFetcher(guild_address,context.network_provider.proxy.url).get_data(\"getUnbondTokenId\"))\n",
    "\n",
    "# user.address = Address(\"erd1kvy5mas5z5ul3tt0ejvtrqcnrqqq6nwmwlxu7xpkqysnp3xwc06sgja0vu\")\n",
    "user.sync_nonce(context.network_provider.proxy)\n",
    "\n",
    "\n",
    "unbond_tk_balance, unbond_tk_nonce = 0, 0\n",
    "tokens_in_account = get_all_token_nonces_details_for_account(unbond_token, user.address, context.network_provider.proxy)\n",
    "print(tokens_in_account)\n",
    "\n",
    "print(f'Found {len(tokens_in_account)} positions of {unbond_token} in account')\n",
    "for token in tokens_in_account:\n",
    "    if int(token['balance']) > unbond_tk_balance:\n",
    "        unbond_tk_balance = int(token['balance'])\n",
    "        unbond_tk_nonce = token['nonce']\n",
    "        event = ExitFarmEvent(unbond_token, unbond_tk_balance, unbond_tk_nonce, '')\n",
    "        tx_hash = guild_contract.cancelUnbondFarm(context.network_provider.proxy, user, event)\n",
    "        # break\n",
    "\n",
    "print(unbond_tk_balance)\n",
    "\n",
    "# event = ExitFarmEvent(unbond_token, unbond_tk_balance, unbond_tk_nonce, '')\n",
    "\n",
    "# tx_hash = guild_contract.unbondFarm(context.network_provider.proxy, user, event)"
   ]
  },
  {
   "cell_type": "markdown",
   "metadata": {},
   "source": [
    "SET MIN/MAX STAKE"
   ]
  },
  {
   "cell_type": "code",
   "execution_count": null,
   "metadata": {},
   "outputs": [],
   "source": [
    "from utils.utils_chain import Account, WrapperAddress as Address, get_all_token_nonces_details_for_account\n",
    "from contracts.farm_contract import ClaimRewardsFarmEvent\n",
    "\n",
    "user.address = Address(\"erd1awuuva7dhnlun9huwx7uefwpkhzjx9d3phenujgkv3zvx9tvsatsw420qt\")\n",
    "user.sync_nonce(context.network_provider.proxy)\n",
    "\n",
    "tx_hash = guild_contract.set(user, context.network_provider.proxy)"
   ]
  },
  {
   "cell_type": "markdown",
   "metadata": {},
   "source": [
    "CHECK GUILD"
   ]
  },
  {
   "cell_type": "code",
   "execution_count": null,
   "metadata": {},
   "outputs": [],
   "source": [
    "from utils.utils_chain import Account, WrapperAddress as Address, get_all_token_nonces_details_for_account\n",
    "from contracts.farm_contract import ClaimRewardsFarmEvent\n",
    "\n",
    "# user.address = Address(\"erd1awuuva7dhnlun9huwx7uefwpkhzjx9d3phenujgkv3zvx9tvsatsw420qt\")\n",
    "user.sync_nonce(context.network_provider.proxy)\n",
    "\n",
    "tx_hash = guild_contract.is_guild_closing(user, context.network_provider.proxy)"
   ]
  },
  {
   "cell_type": "markdown",
   "metadata": {},
   "source": [
    "TRANSFER TOKENS TO FACTORY"
   ]
  },
  {
   "cell_type": "code",
   "execution_count": null,
   "metadata": {},
   "outputs": [],
   "source": [
    "from multiversx_sdk import ProxyNetworkProvider, Token, TokenTransfer\n",
    "\n",
    "from utilities import to_decimal\n",
    "\n",
    "# Signing wallet bech32 address\n",
    "test_address = Address.from_bech32(config[\"signingWalletAddress\"])\n",
    "guild_factory_address = Address.from_bech32(config[\"guildFactoryScAddress\"])\n",
    "\n",
    "# Network provider\n",
    "provider = ProxyNetworkProvider(config[\"defaultPROXY\"])\n",
    "\n",
    "# Get account for the signing wallet\n",
    "test_account = provider.get_account(test_address)\n",
    "\n",
    "# Get network configuration\n",
    "network_config = provider.get_network_config()\n",
    "\n",
    "# Load the signer from the pem file for the signing wallet\n",
    "signer = UserSigner.from_pem_file(\n",
    "    Path(config[\"signingWalletPemPath\"]),\n",
    ")\n",
    "\n",
    "# Nonce holder\n",
    "nonce_holder = AccountNonceHolder(test_account.nonce)\n",
    "\n",
    "farming_token = Token(config[\"farmingToken\"])\n",
    "farming_token_transfer = TokenTransfer(farming_token, to_decimal(10000, 18))\n",
    "transfer_rewards_tx = sc_factory.create_transaction_for_execute(\n",
    "    sender=test_address,\n",
    "    contract=guild_factory_address,\n",
    "    function=\"depositRewardsAdmins\",\n",
    "    gas_limit=10000000,\n",
    "    token_transfers=[farming_token_transfer],\n",
    ")\n",
    "\n",
    "transfer_rewards_tx.nonce = nonce_holder.get_nonce_then_increment()\n",
    "\n",
    "transfer_rewards_tx.signature = signer.sign(\n",
    "    TransactionComputer().compute_bytes_for_signing(transfer_rewards_tx)\n",
    ")\n",
    "\n",
    "result = provider.send_transaction(transfer_rewards_tx)"
   ]
  },
  {
   "cell_type": "markdown",
   "metadata": {},
   "source": [
    "TOPUP REWARDS"
   ]
  },
  {
   "cell_type": "code",
   "execution_count": 4,
   "metadata": {},
   "outputs": [
    {
     "name": "stderr",
     "output_type": "stream",
     "text": [
      "\u001b[38;20m2024-07-30 12:33:44,692 - DEBUG - Account.sync_nonce() done: 46\u001b[0m\n",
      "\u001b[92m2024-07-30 12:33:44,693 - INFO - Topup rewards in stake contract\u001b[0m\n",
      "\u001b[38;20m2024-07-30 12:33:44,695 - DEBUG - Topup rewards in stake contract\u001b[0m\n",
      "\u001b[38;20m2024-07-30 12:33:44,897 - DEBUG - Contract call arguments: []\u001b[0m\n",
      "The transaction builders are deprecated and will be removed in a later release. Use the transaction factories instead.\n",
      "\u001b[92m2024-07-30 12:33:45,054 - INFO - No explorer known for https://proxy-shadowfork-three.elrond.ro. transaction raw path: https://proxy-shadowfork-three.elrond.ro/transaction/61a982a28780cfcac323935cc4708a2a087a01eade2d4bc8f2b9df466542bc89\u001b[0m\n"
     ]
    }
   ],
   "source": [
    "from utils.utils_chain import Account, WrapperAddress as Address, get_all_token_nonces_details_for_account\n",
    "from contracts.farm_contract import ClaimRewardsFarmEvent\n",
    "from utilities import to_decimal\n",
    "\n",
    "\n",
    "# user.address = Address(\"erd1awuuva7dhnlun9huwx7uefwpkhzjx9d3phenujgkv3zvx9tvsatsw420qt\")\n",
    "user.sync_nonce(context.network_provider.proxy)\n",
    "\n",
    "tx_hash = guild_contract.topup_rewards(user, context.network_provider.proxy, to_decimal(10000, 18))"
   ]
  }
 ],
 "metadata": {
  "kernelspec": {
   "display_name": ".venv",
   "language": "python",
   "name": "python3"
  },
  "language_info": {
   "codemirror_mode": {
    "name": "ipython",
    "version": 3
   },
   "file_extension": ".py",
   "mimetype": "text/x-python",
   "name": "python",
   "nbconvert_exporter": "python",
   "pygments_lexer": "ipython3",
   "version": "3.11.6"
  }
 },
 "nbformat": 4,
 "nbformat_minor": 2
}
