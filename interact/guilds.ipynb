{
 "cells": [
  {
   "cell_type": "code",
   "execution_count": 1,
   "metadata": {},
   "outputs": [
    {
     "name": "stderr",
     "output_type": "stream",
     "text": [
      "\u001b[93m2024-07-30 15:08:35,481 - WARNING - Structure definition for stakings_boosted not found in /home/multiversx/Documents/guilds_py/deploy/configs-mainnet/deploy_structure.json\u001b[0m\n"
     ]
    },
    {
     "name": "stdout",
     "output_type": "stream",
     "text": [
      "['/usr/lib/python311.zip', '/usr/lib/python3.11', '/usr/lib/python3.11/lib-dynload', '', '/home/multiversx/Documents/guilds_py/.venv/lib/python3.11/site-packages', '/home/multiversx/Documents/guilds_py']\n",
      "loaded 1 accounts from 1 PEM files.\n"
     ]
    },
    {
     "name": "stderr",
     "output_type": "stream",
     "text": [
      "\u001b[38;20m2024-07-30 15:08:35,870 - DEBUG - Account.sync_nonce() done: 3614\u001b[0m\n",
      "\u001b[38;20m2024-07-30 15:08:36,070 - DEBUG - Account.sync_nonce() done: 3614\u001b[0m\n",
      "\u001b[92m2024-07-30 15:08:36,072 - INFO - Loaded 10 tokens.\u001b[0m\n",
      "\u001b[38;20m2024-07-30 15:08:36,252 - DEBUG - Account.sync_nonce() done: 3614\u001b[0m\n",
      "\u001b[92m2024-07-30 15:08:36,254 - INFO - Loaded 0 stakings.\u001b[0m\n",
      "\u001b[92m2024-07-30 15:08:36,255 - INFO - Loaded 7 stakings_v2.\u001b[0m\n",
      "\u001b[92m2024-07-30 15:08:36,256 - INFO - Loaded 0 stakings_boosted.\u001b[0m\n",
      "\u001b[38;20m2024-07-30 15:08:36,404 - DEBUG - Account.sync_nonce() done: 3614\u001b[0m\n",
      "\u001b[92m2024-07-30 15:08:36,405 - INFO - Deployed contracts below:\u001b[0m\n",
      "\u001b[92m2024-07-30 15:08:36,406 - INFO - stakings:\u001b[0m\n",
      "\u001b[92m2024-07-30 15:08:36,406 - INFO - stakings_v2:\u001b[0m\n",
      "\u001b[92m2024-07-30 15:08:36,407 - INFO - Deployed staking contract: erd1qqqqqqqqqqqqqpgqmqq78c5htmdnws8hm5u4suvags36eq092jpsaxv3e7\u001b[0m\n",
      "\u001b[92m2024-07-30 15:08:36,407 - INFO -  ├ Staking token: RIDE-7d18e9\u001b[0m\n",
      "\u001b[92m2024-07-30 15:08:36,408 - INFO -  ├ Stake token: SRIDE-4ab1d4\u001b[0m\n",
      "\u001b[92m2024-07-30 15:08:36,408 - INFO - Deployed staking contract: erd1qqqqqqqqqqqqqpgqr7kdhagkqgxvjrsk7s5333l9wwnenr9g2jps8puq33\u001b[0m\n",
      "\u001b[92m2024-07-30 15:08:36,410 - INFO -  ├ Staking token: ZPAY-247875\u001b[0m\n",
      "\u001b[92m2024-07-30 15:08:36,410 - INFO -  ├ Stake token: SZPAY-9f1b39\u001b[0m\n",
      "\u001b[92m2024-07-30 15:08:36,410 - INFO - Deployed staking contract: erd1qqqqqqqqqqqqqpgqzps75vsk97w9nsx2cenv2r2tyxl4fl402jpsx78m9j\u001b[0m\n",
      "\u001b[92m2024-07-30 15:08:36,411 - INFO -  ├ Staking token: ITHEUM-df6f26\u001b[0m\n",
      "\u001b[92m2024-07-30 15:08:36,412 - INFO -  ├ Stake token: SITHEUM-e05083\u001b[0m\n",
      "\u001b[92m2024-07-30 15:08:36,412 - INFO - Deployed staking contract: erd1qqqqqqqqqqqqqpgq45zs77q884ts6y9zj4jyqfn6ydev8ruv2jps3tteqq\u001b[0m\n",
      "\u001b[92m2024-07-30 15:08:36,413 - INFO -  ├ Staking token: BHAT-c1fde3\u001b[0m\n",
      "\u001b[92m2024-07-30 15:08:36,413 - INFO -  ├ Stake token: SBHAT-89efd3\u001b[0m\n",
      "\u001b[92m2024-07-30 15:08:36,414 - INFO - Deployed staking contract: erd1qqqqqqqqqqqqqpgqcedkmj8ezme6mtautj79ngv7fez978le2jps8jtawn\u001b[0m\n",
      "\u001b[92m2024-07-30 15:08:36,414 - INFO -  ├ Staking token: UTK-2f80e9\u001b[0m\n",
      "\u001b[92m2024-07-30 15:08:36,415 - INFO -  ├ Stake token: SUTK-ba35f3\u001b[0m\n",
      "\u001b[92m2024-07-30 15:08:36,415 - INFO - Deployed staking contract: erd1qqqqqqqqqqqqqpgqp2wfzvkhlpkwcdxx25qzznx33345979w2jpsl3gflj\u001b[0m\n",
      "\u001b[92m2024-07-30 15:08:36,417 - INFO -  ├ Staking token: CRT-52decf\u001b[0m\n",
      "\u001b[92m2024-07-30 15:08:36,418 - INFO -  ├ Stake token: SCRT-acbd64\u001b[0m\n",
      "\u001b[92m2024-07-30 15:08:36,419 - INFO - Deployed staking contract: erd1qqqqqqqqqqqqqpgqjdlnu9ggwfc79pygn5fjjgmdm6d7vu5e2jpsw59amp\u001b[0m\n",
      "\u001b[92m2024-07-30 15:08:36,420 - INFO -  ├ Staking token: ASH-a642d1\u001b[0m\n",
      "\u001b[92m2024-07-30 15:08:36,421 - INFO -  ├ Stake token: SASH-3671bd\u001b[0m\n",
      "\u001b[92m2024-07-30 15:08:36,422 - INFO - stakings_boosted:\u001b[0m\n"
     ]
    },
    {
     "name": "stdout",
     "output_type": "stream",
     "text": [
      "\n",
      "\n",
      "\n"
     ]
    },
    {
     "ename": "FileNotFoundError",
     "evalue": "[Errno 2] No such file or directory: '~/config_file.yaml'",
     "output_type": "error",
     "traceback": [
      "\u001b[0;31m---------------------------------------------------------------------------\u001b[0m",
      "\u001b[0;31mFileNotFoundError\u001b[0m                         Traceback (most recent call last)",
      "Cell \u001b[0;32mIn[1], line 30\u001b[0m\n\u001b[1;32m     17\u001b[0m \u001b[38;5;28;01mimport\u001b[39;00m \u001b[38;5;21;01mutilities\u001b[39;00m\n\u001b[1;32m     19\u001b[0m context \u001b[38;5;241m=\u001b[39m Context()\n\u001b[1;32m     21\u001b[0m (\n\u001b[1;32m     22\u001b[0m     configuration,\n\u001b[1;32m     23\u001b[0m     test_address,\n\u001b[1;32m     24\u001b[0m     guild_factory_address,\n\u001b[1;32m     25\u001b[0m     provider,\n\u001b[1;32m     26\u001b[0m     network_config,\n\u001b[1;32m     27\u001b[0m     signer,\n\u001b[1;32m     28\u001b[0m     nonce_holder,\n\u001b[1;32m     29\u001b[0m     sc_factory,\n\u001b[0;32m---> 30\u001b[0m ) \u001b[38;5;241m=\u001b[39m \u001b[43mutilities\u001b[49m\u001b[38;5;241;43m.\u001b[39;49m\u001b[43mget_default_data\u001b[49m\u001b[43m(\u001b[49m\u001b[43m)\u001b[49m\n",
      "File \u001b[0;32m~/Documents/guilds_py/utilities.py:32\u001b[0m, in \u001b[0;36mget_default_data\u001b[0;34m()\u001b[0m\n\u001b[1;32m     29\u001b[0m \u001b[38;5;28;01mdef\u001b[39;00m \u001b[38;5;21mget_default_data\u001b[39m():\n\u001b[1;32m     30\u001b[0m \n\u001b[1;32m     31\u001b[0m     \u001b[38;5;66;03m# Read config\u001b[39;00m\n\u001b[0;32m---> 32\u001b[0m     \u001b[38;5;28;01mwith\u001b[39;00m \u001b[38;5;28;43mopen\u001b[39;49m\u001b[43m(\u001b[49m\u001b[38;5;124;43m\"\u001b[39;49m\u001b[38;5;124;43m~/config_file.yaml\u001b[39;49m\u001b[38;5;124;43m\"\u001b[39;49m\u001b[43m,\u001b[49m\u001b[43m \u001b[49m\u001b[38;5;124;43m\"\u001b[39;49m\u001b[38;5;124;43mr\u001b[39;49m\u001b[38;5;124;43m\"\u001b[39;49m\u001b[43m)\u001b[49m \u001b[38;5;28;01mas\u001b[39;00m file:\n\u001b[1;32m     33\u001b[0m         config \u001b[38;5;241m=\u001b[39m yaml\u001b[38;5;241m.\u001b[39msafe_load(file)\n\u001b[1;32m     35\u001b[0m     \u001b[38;5;66;03m# Signing wallet bech32 address\u001b[39;00m\n",
      "\u001b[0;31mFileNotFoundError\u001b[0m: [Errno 2] No such file or directory: '~/config_file.yaml'"
     ]
    }
   ],
   "source": [
    "import sys\n",
    "from pathlib import Path\n",
    "\n",
    "sys.path.append(str(Path.cwd().parent.absolute()))\n",
    "\n",
    "import config\n",
    "import yaml\n",
    "\n",
    "from context import Context\n",
    "from utils.utils_chain import WrapperAddress as Address, Account, hex_to_string\n",
    "from utils.utils_chain import nominated_amount\n",
    "from utils.contract_retrievers import retrieve_farm_by_address\n",
    "from utils.utils_chain import get_token_details_for_address, get_all_token_nonces_details_for_account\n",
    "from utils.utils_tx import ESDTToken\n",
    "from contracts.guild_contract import GuildContract\n",
    "import utilities\n",
    "\n",
    "context = Context()\n",
    "\n",
    "(\n",
    "    configuration,\n",
    "    test_address,\n",
    "    guild_factory_address,\n",
    "    provider,\n",
    "    network_config,\n",
    "    signer,\n",
    "    nonce_holder,\n",
    "    sc_factory,\n",
    ") = utilities.get_default_data()"
   ]
  },
  {
   "cell_type": "code",
   "execution_count": null,
   "metadata": {},
   "outputs": [],
   "source": [
    "user2 = Account(pem_file=\"/home/multiversx/Documents/guilds_py/wallets/wallet2.pem\")\n",
    "user2.address = Address(\"erd1upgm0ghcvsmnup2a22pjrla7turpp8mvzn5jqh0ahrsrv0tegypqmphthz\")\n",
    "\n",
    "user = Account(pem_file=\"/home/multiversx/Documents/guilds_py/wallets/wallet1.pem\")\n",
    "user.address = Address(\"erd1a2x0azarwsag9svwdn23pjramat7zcjceqd44yh4g7jx4pugkg2s3jwlel\")\n",
    "user.sync_nonce(context.network_provider.proxy)"
   ]
  },
  {
   "cell_type": "code",
   "execution_count": null,
   "metadata": {},
   "outputs": [],
   "source": [
    "from utils.contract_retrievers import retrieve_guild_by_address\n",
    "\n",
    "\n",
    "with open(\"config_file.yaml\", \"r\") as file:\n",
    "    config = yaml.safe_load(file)\n",
    "\n",
    "guild_contract: GuildContract = retrieve_guild_by_address(config[\"deployedGuildAddress\"])\n",
    "guild_address = Address(config[\"deployedGuildAddress\"])"
   ]
  },
  {
   "cell_type": "markdown",
   "metadata": {},
   "source": [
    "ADVANCE EPOCHS"
   ]
  },
  {
   "cell_type": "code",
   "execution_count": null,
   "metadata": {},
   "outputs": [],
   "source": [
    "from contracts.builtin_contracts import SFControlContract\n",
    "\n",
    "sf_control_contract = SFControlContract(config.SF_CONTROL_ADDRESS)\n",
    "sf_control_contract.epochs_fast_forward(context.deployer_account, context.network_provider.proxy, 1, 20)"
   ]
  },
  {
   "cell_type": "code",
   "execution_count": null,
   "metadata": {},
   "outputs": [],
   "source": [
    "import time\n",
    "from multiversx_sdk import AccountNonceHolder, TokenPayment, TransactionComputer, UserSigner\n",
    "from multiversx_sdk.core.transaction_builders import ContractCallBuilder, ContractDeploymentBuilder, MultiESDTNFTTransferBuilder, DefaultTransactionBuildersConfiguration\n",
    "\n",
    "\n",
    "token = \"TESTUTK-cdbafa\"\n",
    "holder = Account(pem_file=\"~/Documents/sh1.pem\", pem_index=0)\n",
    "holder.address = Address(\"erd1a2x0azarwsag9svwdn23pjramat7zcjceqd44yh4g7jx4pugkg2s3jwlel\")\n",
    "user.sync_nonce(context.network_provider.proxy)\n",
    "holder.sync_nonce(context.network_provider.proxy)\n",
    "user_signer = UserSigner.from_pem_file(Path(\"~/Documents/sh1.pem\"))\n",
    "\n",
    "\n",
    "hashes = []\n",
    "configs = DefaultTransactionBuildersConfiguration(chain_id=\"1\")\n",
    "\n",
    "\n",
    "transfers = [\n",
    "    TokenPayment.meta_esdt_from_amount(token, 0, 100000, 18)\n",
    "             ]\n",
    "\n",
    "builder = MultiESDTNFTTransferBuilder(\n",
    "        configs,\n",
    "        destination=user.address,\n",
    "        sender=holder.address,\n",
    "        gas_limit=30000000,\n",
    "        payments=transfers\n",
    "    )\n",
    "\n",
    "tx = builder.build()\n",
    "tx.nonce = holder.nonce\n",
    "tx_computer = TransactionComputer()\n",
    "tx.signature = user_signer.sign(tx_computer.compute_bytes_for_signing(tx))\n",
    "\n",
    "hash = context.network_provider.proxy.send_transaction(tx)\n",
    "print(hash)\n",
    "hashes.append(hash)\n",
    "time.sleep(2)"
   ]
  },
  {
   "cell_type": "markdown",
   "metadata": {},
   "source": [
    "ISSUE TOKENS"
   ]
  },
  {
   "cell_type": "code",
   "execution_count": null,
   "metadata": {},
   "outputs": [],
   "source": [
    "import time\n",
    "from contracts.builtin_contracts import ESDTContract\n",
    "esdt_contract = ESDTContract(config.TOKENS_CONTRACT_ADDRESS)\n",
    "nr_tokens = 1\n",
    "token_ticker = \"TESTUTK\"\n",
    "holder = Account(pem_file=\"/home/multiversx/Documents/guilds_py/defi-wallet.pem\", pem_index=0)\n",
    "holder.address = Address(\"erd1a2x0azarwsag9svwdn23pjramat7zcjceqd44yh4g7jx4pugkg2s3jwlel\")\n",
    "holder.sync_nonce(context.network_provider.proxy)\n",
    "\n",
    "# issue a number of nr_tokens tokens\n",
    "hashes = []\n",
    "# for i in range(1, nr_tokens+1):\n",
    "hash = esdt_contract.issue_fungible_token(holder, context.network_provider.proxy, \n",
    "                                     [f\"{token_ticker}\", f\"{token_ticker}\", 1000000000000000000000000000, 18, \n",
    "                                      \"canMint\", \"true\", \"canBurn\", \"true\", \"canPause\", \"true\", \"canFreeze\", \"true\", \"canWipe\", \"true\", \"canChangeOwner\", \"true\", \"canUpgrade\", \"true\", \"canAddSpecialRoles\", \"true\"])\n",
    "print(f\"Issued {token_ticker} in: {hash}\")\n",
    "hashes.append(hash)\n",
    "time.sleep(1)\n",
    "\n",
    "# check issue success and retrieve tokens\n",
    "issued_tokens = []\n",
    "for hash in hashes:\n",
    "    if context.network_provider.check_complex_tx_status(hash, \"issue token\"):\n",
    "        tx_data = context.network_provider.proxy.get_transaction(hash)\n",
    "        issue_event = tx_data.logs.find_first_or_none_event(\"issue\")\n",
    "        issued_token = str(issue_event.topics[0])\n",
    "        print(issue_event.topics[0].raw)\n",
    "        print(\"Issued token:\", issued_token)\n",
    "        issued_tokens.append(issued_token)\n",
    "    else:\n",
    "        print(f\"Transaction {hash} failed!\")\n",
    "\n",
    "print(f'Issued ESDT Tokens: {issued_tokens}')"
   ]
  },
  {
   "cell_type": "markdown",
   "metadata": {},
   "source": [
    "GUILD QUERY"
   ]
  },
  {
   "cell_type": "code",
   "execution_count": null,
   "metadata": {},
   "outputs": [],
   "source": [
    "from multiversx_sdk import SmartContractTransactionsFactory\n",
    "from utilities import get_default_data\n",
    "from utils.contract_data_fetchers import GuildContractDataFetcher\n",
    "\n",
    "(\n",
    "    configuration,\n",
    "    test_address,\n",
    "    guild_factory_address,\n",
    "    provider,\n",
    "    network_config,\n",
    "    signer,\n",
    "    nonce_holder,\n",
    "    sc_factory,\n",
    ") = get_default_data()\n",
    "\n",
    "# context.network_provider.proxy.get_data('getFarmTokenId')\n",
    "guild_contract_address = Address(configuration[\"guildScAddressModel\"])\n",
    "GuildContractDataFetcher(guild_contract_address,context.network_provider.proxy.url).get_data(\"getFarmingTokenId\")\n"
   ]
  },
  {
   "cell_type": "markdown",
   "metadata": {},
   "source": [
    "PAUSE"
   ]
  },
  {
   "cell_type": "code",
   "execution_count": null,
   "metadata": {},
   "outputs": [],
   "source": [
    "\n",
    "from contracts.farm_contract import FarmContract\n",
    "# from contracts.guild_contract import GuildContract\n",
    "user.sync_nonce(context.network_provider.proxy)\n",
    "\n",
    "guild_contract: FarmContract = retrieve_farm_by_address(config[\"guildScAddressModel\"])\n",
    "\n",
    "tx_hash = guild_contract.pause(user, context.network_provider.proxy)"
   ]
  },
  {
   "cell_type": "markdown",
   "metadata": {},
   "source": [
    "RESUME"
   ]
  },
  {
   "cell_type": "code",
   "execution_count": null,
   "metadata": {},
   "outputs": [],
   "source": [
    "import yaml\n",
    "from contracts.guild_contract import GuildContract\n",
    "\n",
    "\n",
    "with open(\"config_file.yaml\", \"r\") as file:\n",
    "    config_file = yaml.safe_load(file)\n",
    "\n",
    "\n",
    "user.sync_nonce(context.network_provider.proxy)\n",
    "context.deployer_account.sync_nonce(context.network_provider.proxy)\n",
    "\n",
    "guild_contract: GuildContract = retrieve_farm_by_address(config_file[\"deployedGuildAddress\"])\n",
    "\n",
    "tx_hash = guild_contract.resume(user, context.network_provider.proxy)"
   ]
  },
  {
   "cell_type": "markdown",
   "metadata": {},
   "source": [
    "START PRODUCE REWARDS"
   ]
  },
  {
   "cell_type": "code",
   "execution_count": null,
   "metadata": {},
   "outputs": [],
   "source": [
    "import yaml\n",
    "from contracts.guild_contract import GuildContract\n",
    "\n",
    "\n",
    "with open(\"config_file.yaml\", \"r\") as file:\n",
    "    config_file = yaml.safe_load(file)\n",
    "\n",
    "context.deployer_account.sync_nonce(context.network_provider.proxy)\n",
    "\n",
    "guild_contract: GuildContract = retrieve_farm_by_address(config_file[\"deployedGuildAddress\"])\n",
    "\n",
    "tx_hash = guild_contract.start_produce_rewards(user, context.network_provider.proxy)"
   ]
  },
  {
   "cell_type": "markdown",
   "metadata": {},
   "source": [
    "REGISTER FARM TOKEN"
   ]
  },
  {
   "cell_type": "code",
   "execution_count": null,
   "metadata": {},
   "outputs": [],
   "source": [
    "import yaml\n",
    "import time\n",
    "from utilities import tx_success, get_default_data\n",
    "from utils.contract_data_fetchers import FarmContractDataFetcher\n",
    "from multiversx_sdk import TransactionComputer\n",
    "\n",
    "guild_address = Address(config_file[\"deployedGuildAddress\"])\n",
    "token = \"TESTUTK-cdbafa\"\n",
    "\n",
    "(\n",
    "    config,\n",
    "    test_address,\n",
    "    guild_factory_address,\n",
    "    provider,\n",
    "    network_config,\n",
    "    signer,\n",
    "    nonce_holder,\n",
    "    sc_factory,\n",
    ") = get_default_data()\n",
    "\n",
    "\n",
    "register_farm_token_tx = sc_factory.create_transaction_for_execute(\n",
    "    sender=test_address,\n",
    "    contract=guild_address,\n",
    "    function=\"registerFarmToken\",\n",
    "    gas_limit=70000000,\n",
    "    arguments=[],\n",
    "    # \"UTKFARM\", \"UTKFARM\", 18,\"\"\n",
    "    native_transfer_amount=50000000000000000\n",
    " \n",
    ")\n",
    "register_farm_token_tx.nonce = nonce_holder.get_nonce_then_increment()\n",
    "register_farm_token_tx.signature = signer.sign(\n",
    "    TransactionComputer().compute_bytes_for_signing(register_farm_token_tx)\n",
    ")\n",
    "\n",
    "result = provider.send_transaction(register_farm_token_tx)\n",
    "print(\"Register Farm Token transaction hash:\", result)\n",
    "time.sleep(3)\n",
    "tx_status = tx_success(result, provider)\n",
    "if not tx_status:\n",
    "    print(\"Register Farm Token transaction failed\")\n",
    "else:\n",
    "    print(\"Farm token registered successfully\")\n"
   ]
  },
  {
   "cell_type": "markdown",
   "metadata": {},
   "source": [
    "Set admin"
   ]
  },
  {
   "cell_type": "code",
   "execution_count": null,
   "metadata": {},
   "outputs": [],
   "source": [
    "from multiversx_sdk.core.transaction_builders import ContractCallBuilder, ESDTNFTTransferBuilder, DefaultTransactionBuildersConfiguration\n",
    "from multiversx_sdk import AccountNonceHolder, TokenPayment, TransactionComputer, UserSigner\n",
    "\n",
    "\n",
    "newAdmin = Account(pem_file=\"~/Documents/sh1.pem\", pem_index=0)\n",
    "newAdmin = Address(\"erd1qrat8pxccn8mj7n47v38uw7q4nkej6zq6mny3ljkj29uzdf6s42srfja7q\")\n",
    "config = DefaultTransactionBuildersConfiguration(chain_id=\"1\")\n",
    "user_signer = UserSigner.from_pem_file(Path(\"~/Documents/sh1.pem\"))\n",
    "user.sync_nonce(context.network_provider.proxy)\n",
    "\n",
    "builder = ContractCallBuilder(\n",
    "    config,\n",
    "    contract=Address(guild_contract.address),\n",
    "    function_name=\"addAdmin\",\n",
    "    caller=user.address,\n",
    "    nonce=user.nonce,\n",
    "    call_arguments=[newAdmin],\n",
    "    gas_limit=30000000\n",
    ")\n",
    "\n",
    "tx = builder.build()\n",
    "tx_computer = TransactionComputer()\n",
    "tx.signature = user_signer.sign(tx_computer.compute_bytes_for_signing(tx))\n",
    "\n",
    "hash = context.network_provider.proxy.send_transaction(tx)\n"
   ]
  },
  {
   "cell_type": "code",
   "execution_count": null,
   "metadata": {},
   "outputs": [],
   "source": [
    "#GUILD FACTORY QUERIES\n",
    "from multiversx_sdk import SmartContractTransactionsFactory\n",
    "from utilities import get_default_data\n",
    "from utils.contract_data_fetchers import GuildFactoryDataFetcher\n",
    "\n",
    "(\n",
    "    configuration,\n",
    "    test_address,\n",
    "    guild_factory_address,\n",
    "    provider,\n",
    "    network_config,\n",
    "    signer,\n",
    "    nonce_holder,\n",
    "    sc_factory,\n",
    ") = get_default_data()\n",
    "\n",
    "# context.network_provider.proxy.get_data('getFarmTokenId')\n",
    "guild_contract_address = Address(configuration[\"guildFactoryScAddress\"])\n",
    "GuildFactoryDataFetcher(guild_contract_address,context.network_provider.proxy.url).get_data(\"getConfigAddress\")\n"
   ]
  },
  {
   "cell_type": "markdown",
   "metadata": {},
   "source": [
    "TRANSFER TOKENS"
   ]
  },
  {
   "cell_type": "code",
   "execution_count": null,
   "metadata": {},
   "outputs": [],
   "source": [
    "import time\n",
    "from multiversx_sdk import AccountNonceHolder, TokenPayment, TransactionComputer, UserSigner\n",
    "from multiversx_sdk.core.transaction_builders import ContractCallBuilder, ContractDeploymentBuilder, MultiESDTNFTTransferBuilder, DefaultTransactionBuildersConfiguration\n",
    "\n",
    "\n",
    "token = \"UTKFARMN-535c6d\"\n",
    "holder = Account(pem_file=\"~/Documents/sh1.pem\", pem_index=0)\n",
    "holder.address = Address(\"erd1a2x0azarwsag9svwdn23pjramat7zcjceqd44yh4g7jx4pugkg2s3jwlel\")\n",
    "user2.address = Address(\"erd1upgm0ghcvsmnup2a22pjrla7turpp8mvzn5jqh0ahrsrv0tegypqmphthz\")\n",
    "user2.sync_nonce(context.network_provider.proxy)\n",
    "holder.sync_nonce(context.network_provider.proxy)\n",
    "user_signer = UserSigner.from_pem_file(Path(\"~/Documents/sh1.pem\"))\n",
    "\n",
    "\n",
    "hashes = []\n",
    "configs = DefaultTransactionBuildersConfiguration(chain_id=\"1\")\n",
    "\n",
    "\n",
    "transfers = [\n",
    "    TokenPayment.meta_esdt_from_amount(token, 1, 500000, 18)\n",
    "             ]\n",
    "\n",
    "builder = MultiESDTNFTTransferBuilder(\n",
    "        configs,\n",
    "        destination=user2.address,\n",
    "        sender=holder.address,\n",
    "        gas_limit=30000000,\n",
    "        payments=transfers\n",
    "    )\n",
    "\n",
    "tx = builder.build()\n",
    "tx.nonce = holder.nonce\n",
    "tx_computer = TransactionComputer()\n",
    "tx.signature = user_signer.sign(tx_computer.compute_bytes_for_signing(tx))\n",
    "\n",
    "hash = context.network_provider.proxy.send_transaction(tx)\n",
    "print(hash)\n",
    "hashes.append(hash)\n",
    "time.sleep(2)"
   ]
  },
  {
   "cell_type": "markdown",
   "metadata": {},
   "source": [
    "STAKE"
   ]
  },
  {
   "cell_type": "code",
   "execution_count": null,
   "metadata": {},
   "outputs": [],
   "source": [
    "from contracts.guild_contract import GuildContract\n",
    "from events.farm_events import EnterFarmEvent\n",
    "from utils.utils_tx import ESDTToken\n",
    "\n",
    "guild_address = Address(config[\"deployedGuildAddress\"])\n",
    "\n",
    "# user.address = Address(\"erd1upgm0ghcvsmnup2a22pjrla7turpp8mvzn5jqh0ahrsrv0tegypqmphthz\")\n",
    "user2.sync_nonce(context.network_provider.proxy)\n",
    "\n",
    "farming_tk_balance = 0\n",
    "farm_tk_balance, farm_tk_nonce = 0, 0\n",
    "tokens_in_account = get_all_token_nonces_details_for_account(guild_contract.farmToken, user2.address.bech32(), context.network_provider.proxy)\n",
    "print(f'Found {len(tokens_in_account)} farm tokens in account')\n",
    "for token in tokens_in_account:\n",
    "    if int(token['balance']) > farm_tk_balance:\n",
    "        farm_tk_balance = int(token['balance'])\n",
    "        farm_tk_nonce = token['nonce']\n",
    "        break\n",
    "\n",
    "event = EnterFarmEvent(guild_contract.farmingToken, 0, 10000000000000000000000,\n",
    "                       guild_contract.farmToken, farm_tk_nonce, farm_tk_balance)\n",
    "\n",
    "tx = guild_contract.stakeFarm(\n",
    "    context.network_provider,\n",
    "    user2, \n",
    "    event,\n",
    "    True\n",
    ")\n",
    "\n",
    "print(\"Transaction hash:\", tx)"
   ]
  },
  {
   "cell_type": "markdown",
   "metadata": {},
   "source": [
    "UNSTAKE FROM GUILD"
   ]
  },
  {
   "cell_type": "code",
   "execution_count": null,
   "metadata": {},
   "outputs": [],
   "source": [
    "from contracts.guild_contract import GuildContract\n",
    "from events.farm_events import EnterFarmEvent, ExitFarmEvent\n",
    "from utils.contract_retrievers import retrieve_guild_by_address\n",
    "from utils.utils_tx import ESDTToken\n",
    "\n",
    "guild_address = Address(config_file[\"deployedGuildAddress\"])\n",
    "\n",
    "user.address = Address(\"erd1j8m8clpzxp4wpuv2hesw36whre6nysga9ggqrmy8n0shm4rgyues8pe5nd\")\n",
    "user.sync_nonce(context.network_provider.proxy)\n",
    "\n",
    "farm_tk_balance, farm_tk_nonce = 0, 0\n",
    "tokens_in_account = get_all_token_nonces_details_for_account(guild_contract.farmToken, user.address, context.network_provider.proxy)\n",
    "print(f'Found {len(tokens_in_account)} positions of {guild_contract.farmToken} in account')\n",
    "print(tokens_in_account)\n",
    "for token in tokens_in_account:\n",
    "    if int(token['balance']) > 0:\n",
    "        farm_tk_balance = int(token['balance'])\n",
    "        farm_tk_nonce = token['nonce']\n",
    "        event = ExitFarmEvent(guild_contract.farmToken, farm_tk_balance, farm_tk_nonce, '')\n",
    "        tx_hash = guild_contract.exitFarm(context.network_provider.proxy, user, event)\n",
    "        # break\n",
    "\n",
    "\n",
    "# "
   ]
  },
  {
   "cell_type": "markdown",
   "metadata": {},
   "source": [
    "UNBOND FARM"
   ]
  },
  {
   "cell_type": "code",
   "execution_count": null,
   "metadata": {},
   "outputs": [],
   "source": [
    "from contracts.guild_contract import GuildContract\n",
    "from events.farm_events import EnterFarmEvent, ExitFarmEvent\n",
    "from utils.contract_retrievers import retrieve_guild_by_address\n",
    "from utils.utils_tx import ESDTToken\n",
    "from utils.contract_data_fetchers import GuildContractDataFetcher, GuildFactoryDataFetcher\n",
    "\n",
    "\n",
    "unbond_token = hex_to_string(GuildContractDataFetcher(guild_address,context.network_provider.proxy.url).get_data(\"getUnbondTokenId\"))\n",
    "\n",
    "# user.address = Address(\"erd1kvy5mas5z5ul3tt0ejvtrqcnrqqq6nwmwlxu7xpkqysnp3xwc06sgja0vu\")\n",
    "user.sync_nonce(context.network_provider.proxy)\n",
    "\n",
    "\n",
    "unbond_tk_balance, unbond_tk_nonce = 0, 0\n",
    "tokens_in_account = get_all_token_nonces_details_for_account(unbond_token, user.address, context.network_provider.proxy)\n",
    "print(tokens_in_account)\n",
    "\n",
    "print(f'Found {len(tokens_in_account)} positions of {unbond_token} in account')\n",
    "for token in tokens_in_account:\n",
    "    if int(token['balance']) > unbond_tk_balance:\n",
    "        unbond_tk_balance = int(token['balance'])\n",
    "        unbond_tk_nonce = token['nonce']\n",
    "        event = ExitFarmEvent(unbond_token, unbond_tk_balance, unbond_tk_nonce, '')\n",
    "        tx_hash = guild_contract.unbondFarm(context.network_provider.proxy, user, event)\n",
    "        # break\n",
    "\n",
    "print(unbond_tk_balance)\n",
    "\n",
    "# event = ExitFarmEvent(unbond_token, unbond_tk_balance, unbond_tk_nonce, '')\n",
    "\n",
    "# tx_hash = guild_contract.unbondFarm(context.network_provider.proxy, user, event)"
   ]
  },
  {
   "cell_type": "markdown",
   "metadata": {},
   "source": [
    "CLAIM REWARDS"
   ]
  },
  {
   "cell_type": "code",
   "execution_count": null,
   "metadata": {},
   "outputs": [],
   "source": [
    "from utils.utils_chain import Account, WrapperAddress as Address, get_all_token_nonces_details_for_account\n",
    "from contracts.farm_contract import ClaimRewardsFarmEvent\n",
    "\n",
    "# user.address = Address(\"erd1upgm0ghcvsmnup2a22pjrla7turpp8mvzn5jqh0ahrsrv0tegypqmphthz\")\n",
    "\n",
    "user2.sync_nonce(context.network_provider.proxy)\n",
    "\n",
    "farm_tk_balance, farm_tk_nonce = 0, 0\n",
    "tokens_in_account = get_all_token_nonces_details_for_account(guild_contract.farmToken, user2.address.bech32(), context.network_provider.proxy)\n",
    "print(f'Found {len(tokens_in_account)} positions of {guild_contract.farmToken} in account')\n",
    "for token in tokens_in_account:\n",
    "    if int(token['balance']) > farm_tk_balance:\n",
    "        farm_tk_balance = int(token['balance'])\n",
    "        farm_tk_nonce = token['nonce']\n",
    "        event = ClaimRewardsFarmEvent(farm_tk_balance, farm_tk_nonce, '')\n",
    "\n",
    "        tx_hash = guild_contract.claimRewards(context.network_provider, user2, event)\n",
    "        # break\n",
    "\n",
    "if not farm_tk_nonce:\n",
    "    raise Exception(\"Not enough farm token balance\")\n",
    "\n"
   ]
  },
  {
   "cell_type": "markdown",
   "metadata": {},
   "source": [
    "COMPOUND REWARDS"
   ]
  },
  {
   "cell_type": "code",
   "execution_count": null,
   "metadata": {},
   "outputs": [],
   "source": [
    "from events.farm_events import CompoundRewardsFarmEvent\n",
    "from utils.utils_chain import Account, WrapperAddress as Address, get_all_token_nonces_details_for_account\n",
    "from contracts.farm_contract import ClaimRewardsFarmEvent\n",
    "\n",
    "user.address = Address(\"erd1j8m8clpzxp4wpuv2hesw36whre6nysga9ggqrmy8n0shm4rgyues8pe5nd\")\n",
    "user.sync_nonce(context.network_provider.proxy)\n",
    "\n",
    "\n",
    "farm_tk_balance, farm_tk_nonce = 0, 0\n",
    "tokens_in_account = get_all_token_nonces_details_for_account(guild_contract.farmToken, user.address.bech32(), context.network_provider.proxy)\n",
    "print(f'Found {len(tokens_in_account)} positions of {guild_contract.farmToken} in account')\n",
    "for token in tokens_in_account:\n",
    "    if int(token['balance']) > farm_tk_balance:\n",
    "        farm_tk_balance = int(token['balance'])\n",
    "        farm_tk_nonce = token['nonce']\n",
    "        # break\n",
    "        event = CompoundRewardsFarmEvent(farm_tk_balance, farm_tk_nonce)\n",
    "\n",
    "tx_hash = guild_contract.compoundRewards(context.network_provider, user, event)\n",
    "\n",
    "if not farm_tk_nonce:\n",
    "    raise Exception(\"Not enough farm token balance\")\n",
    "\n"
   ]
  },
  {
   "cell_type": "markdown",
   "metadata": {},
   "source": [
    "MERGE TOKENS"
   ]
  },
  {
   "cell_type": "code",
   "execution_count": null,
   "metadata": {},
   "outputs": [],
   "source": [
    "from events.farm_events import CompoundRewardsFarmEvent\n",
    "from utils.utils_chain import Account, WrapperAddress as Address, get_all_token_nonces_details_for_account\n",
    "from contracts.farm_contract import ClaimRewardsFarmEvent\n",
    "\n",
    "# user.address = Address(\"erd1j8m8clpzxp4wpuv2hesw36whre6nysga9ggqrmy8n0shm4rgyues8pe5nd\")\n",
    "user.sync_nonce(context.network_provider.proxy)\n",
    "\n",
    "\n",
    "farm_tk_balance, farm_tk_nonce = 0, 0\n",
    "tokens_in_account = get_all_token_nonces_details_for_account(guild_contract.farmToken, user.address.bech32(), context.network_provider.proxy)\n",
    "print(f'Found {len(tokens_in_account)} positions of {guild_contract.farmToken} in account')\n",
    "for token in tokens_in_account:\n",
    "    if int(token['balance']) > farm_tk_balance:\n",
    "        farm_tk_balance = int(token['balance'])\n",
    "        farm_tk_nonce = token['nonce']\n",
    "        break\n",
    "\n",
    "if not farm_tk_nonce:\n",
    "    raise Exception(\"Not enough farm token balance\")\n",
    "\n",
    "event = CompoundRewardsFarmEvent(1000000000, farm_tk_nonce)\n",
    "\n",
    "tx_hash = guild_contract.compoundRewards(context.network_provider, user, event)"
   ]
  },
  {
   "cell_type": "markdown",
   "metadata": {},
   "source": [
    "CALCULATE REWARDS FOR USER"
   ]
  },
  {
   "cell_type": "code",
   "execution_count": null,
   "metadata": {},
   "outputs": [],
   "source": [
    "from utils.utils_chain import Account, WrapperAddress as Address, base64_to_hex, decode_merged_attributes, get_all_token_nonces_details_for_account\n",
    "from contracts.farm_contract import ClaimRewardsFarmEvent\n",
    "from utils.decoding_structures import FARM_TOKEN_ATTRIBUTES\n",
    "from utils.contract_data_fetchers import GuildContractDataFetcher, GuildFactoryDataFetcher\n",
    "\n",
    "\n",
    "\n",
    "user.sync_nonce(context.network_provider.proxy)\n",
    "guild_contract_address = Address(configuration[\"deployedGuildAddress\"])\n",
    "\n",
    "\n",
    "\n",
    "farm_tk_balance, farm_tk_nonce = 0, 0\n",
    "tokens_in_account = get_all_token_nonces_details_for_account(guild_contract.farmToken, user.address.bech32(), context.network_provider.proxy)\n",
    "print(f'Farm Tokens in account:')\n",
    "for token in tokens_in_account:\n",
    "    print(f'\\t{token}')\n",
    "    # print(f'\\t\\t{decode_merged_attributes(base64_to_hex(token[\"attributes\"]), FARM_TOKEN_ATTRIBUTES)}')\n",
    "print(f'Found {len(tokens_in_account)} positions of {guild_contract.farmToken} in account')\n",
    "attr = \"\"\n",
    "\n",
    "\n",
    "for token in tokens_in_account:\n",
    "    if int(token['balance']) > farm_tk_balance:\n",
    "        farm_tk_balance = int(token['balance'])\n",
    "        farm_tk_nonce = token['nonce']\n",
    "\n",
    "\n",
    "rewards_per_share = GuildContractDataFetcher(guild_contract_address,context.network_provider.proxy.url).get_data(\"getUserRewardPerShare\")\n",
    "compounded_reward = GuildContractDataFetcher(guild_contract_address,context.network_provider.proxy.url).get_data(\"getAccumulatedRewards\")\n",
    "current_farm_amount = GuildContractDataFetcher(guild_contract_address,context.network_provider.proxy.url).get_data(\"getFarmTokenSupply\")\n",
    "\n",
    "\n",
    "\n",
    "# attributes_hex = base64_to_hex(tokens[token]['attributes'])\n",
    "# decoded_attributes = decode_merged_attributes(base64_to_hex(xmex_token_on_network.attributes), FARM_TOKEN_ATTRIBUTES)\n",
    "\n",
    "\n",
    "tx_hash = guild_contract.calculateRewardsForUser(context.network_provider, user, farm_tk_balance, attr) #hex value\n",
    "\n",
    "if not farm_tk_nonce:\n",
    "    raise Exception(\"Not enough farm token balance\")\n",
    "print(rewards_per_share)\n",
    "print(compounded_reward)\n",
    "print(current_farm_amount)\n",
    "\n",
    "\n"
   ]
  },
  {
   "cell_type": "markdown",
   "metadata": {},
   "source": [
    "UPGRADE"
   ]
  },
  {
   "cell_type": "code",
   "execution_count": null,
   "metadata": {},
   "outputs": [],
   "source": [
    "from multiversx_sdk import CodeMetadata\n",
    "from utils.utils_tx import upgrade_call\n",
    "\n",
    "\n",
    "guild_address = Address.from_bech32(configuration[\"guildConfigScAddressModel\"])\n",
    "\n",
    "context.deployer_account.address = user.address\n",
    "context.deployer_account.sync_nonce(context.network_provider.proxy)\n",
    "# hash = contract.contract_upgrade(context.deployer_account, context.network_provider.proxy, config.DUMMY_PROXY, [])\n",
    "\n",
    "metadata = CodeMetadata(upgradeable=True, payable_by_contract=True, readable=True)\n",
    "gas_limit = 300000000\n",
    "\n",
    "# if no_init:\n",
    "#         arguments = []\n",
    "# else:\n",
    "arguments = []\n",
    "\n",
    "bytecode = Path(\n",
    "    \"/home/multiversx/Documents/guilds_py/wasm/guild-sc-config.wasm\"\n",
    "    )\n",
    "\n",
    "tx_hash = upgrade_call(\"guild\", context.network_provider.proxy, gas_limit, context.deployer_account, guild_address,\n",
    "                               bytecode, metadata, arguments)\n"
   ]
  },
  {
   "cell_type": "markdown",
   "metadata": {},
   "source": [
    "END REWARDS"
   ]
  },
  {
   "cell_type": "code",
   "execution_count": null,
   "metadata": {},
   "outputs": [],
   "source": [
    "from utils.utils_chain import Account, WrapperAddress as Address, get_all_token_nonces_details_for_account\n",
    "from contracts.farm_contract import ClaimRewardsFarmEvent\n",
    "\n",
    "user.address = Address(\"erd1awuuva7dhnlun9huwx7uefwpkhzjx9d3phenujgkv3zvx9tvsatsw420qt\")\n",
    "user.sync_nonce(context.network_provider.proxy)\n",
    "\n",
    "tx_hash = guild_contract.end_produce_rewards(user, context.network_provider.proxy)"
   ]
  },
  {
   "cell_type": "code",
   "execution_count": null,
   "metadata": {},
   "outputs": [],
   "source": [
    "#GET GUILD CONFIG STATS\n",
    "\n",
    "#GET GUILD FACTORY STATS\n",
    "\n",
    "#GET GUILD SC STATS\n",
    "\n",
    "guild_stats = guild_contract.get_all_stats(context.network_provider.proxy)\n",
    "\n",
    "print(guild_stats)\n",
    "\n",
    "\n",
    "# farm_token_nonce, farm_token_amount = get_token(proxy_contract.proxy_farm_token, int(looking_for_nonce, 16))\n",
    "\n",
    "# farm_dec_attributes, lp_dec_attributes, lktk_dec_attributes = guild_contract.get_all_decoded_farm_token_attributes_from_api(context.network_provider.proxy, get_nonce(guild_contract.address))\n"
   ]
  },
  {
   "cell_type": "markdown",
   "metadata": {},
   "source": [
    "CANCEL UNBOND FARM"
   ]
  },
  {
   "cell_type": "code",
   "execution_count": null,
   "metadata": {},
   "outputs": [],
   "source": [
    "from contracts.guild_contract import GuildContract\n",
    "from events.farm_events import EnterFarmEvent, ExitFarmEvent\n",
    "from utils.contract_retrievers import retrieve_guild_by_address\n",
    "from utils.utils_tx import ESDTToken\n",
    "from utils.contract_data_fetchers import GuildContractDataFetcher, GuildFactoryDataFetcher\n",
    "\n",
    "\n",
    "unbond_token = hex_to_string(GuildContractDataFetcher(guild_address,context.network_provider.proxy.url).get_data(\"getUnbondTokenId\"))\n",
    "\n",
    "# user.address = Address(\"erd1kvy5mas5z5ul3tt0ejvtrqcnrqqq6nwmwlxu7xpkqysnp3xwc06sgja0vu\")\n",
    "user.sync_nonce(context.network_provider.proxy)\n",
    "\n",
    "\n",
    "unbond_tk_balance, unbond_tk_nonce = 0, 0\n",
    "tokens_in_account = get_all_token_nonces_details_for_account(unbond_token, user.address, context.network_provider.proxy)\n",
    "print(tokens_in_account)\n",
    "\n",
    "print(f'Found {len(tokens_in_account)} positions of {unbond_token} in account')\n",
    "for token in tokens_in_account:\n",
    "    if int(token['balance']) > unbond_tk_balance:\n",
    "        unbond_tk_balance = int(token['balance'])\n",
    "        unbond_tk_nonce = token['nonce']\n",
    "        event = ExitFarmEvent(unbond_token, unbond_tk_balance, unbond_tk_nonce, '')\n",
    "        tx_hash = guild_contract.cancelUnbondFarm(context.network_provider.proxy, user, event)\n",
    "        # break\n",
    "\n",
    "print(unbond_tk_balance)\n",
    "\n",
    "# event = ExitFarmEvent(unbond_token, unbond_tk_balance, unbond_tk_nonce, '')\n",
    "\n",
    "# tx_hash = guild_contract.unbondFarm(context.network_provider.proxy, user, event)"
   ]
  },
  {
   "cell_type": "markdown",
   "metadata": {},
   "source": [
    "SET MIN/MAX STAKE"
   ]
  },
  {
   "cell_type": "code",
   "execution_count": null,
   "metadata": {},
   "outputs": [],
   "source": [
    "from utils.utils_chain import Account, WrapperAddress as Address, get_all_token_nonces_details_for_account\n",
    "from contracts.farm_contract import ClaimRewardsFarmEvent\n",
    "\n",
    "user.address = Address(\"erd1awuuva7dhnlun9huwx7uefwpkhzjx9d3phenujgkv3zvx9tvsatsw420qt\")\n",
    "user.sync_nonce(context.network_provider.proxy)\n",
    "\n",
    "tx_hash = guild_contract.set(user, context.network_provider.proxy)"
   ]
  },
  {
   "cell_type": "markdown",
   "metadata": {},
   "source": [
    "CHECK GUILD"
   ]
  },
  {
   "cell_type": "code",
   "execution_count": null,
   "metadata": {},
   "outputs": [],
   "source": [
    "from utils.utils_chain import Account, WrapperAddress as Address, get_all_token_nonces_details_for_account\n",
    "from contracts.farm_contract import ClaimRewardsFarmEvent\n",
    "\n",
    "# user.address = Address(\"erd1awuuva7dhnlun9huwx7uefwpkhzjx9d3phenujgkv3zvx9tvsatsw420qt\")\n",
    "user.sync_nonce(context.network_provider.proxy)\n",
    "\n",
    "tx_hash = guild_contract.is_guild_closing(user, context.network_provider.proxy)"
   ]
  },
  {
   "cell_type": "markdown",
   "metadata": {},
   "source": [
    "TRANSFER TOKENS TO FACTORY"
   ]
  },
  {
   "cell_type": "code",
   "execution_count": null,
   "metadata": {},
   "outputs": [],
   "source": [
    "from multiversx_sdk import ProxyNetworkProvider, Token, TokenTransfer\n",
    "\n",
    "from utilities import to_decimal\n",
    "\n",
    "# Signing wallet bech32 address\n",
    "test_address = Address.from_bech32(config[\"signingWalletAddress\"])\n",
    "guild_factory_address = Address.from_bech32(config[\"guildFactoryScAddress\"])\n",
    "\n",
    "# Network provider\n",
    "provider = ProxyNetworkProvider(config[\"defaultPROXY\"])\n",
    "\n",
    "# Get account for the signing wallet\n",
    "test_account = provider.get_account(test_address)\n",
    "\n",
    "# Get network configuration\n",
    "network_config = provider.get_network_config()\n",
    "\n",
    "# Load the signer from the pem file for the signing wallet\n",
    "signer = UserSigner.from_pem_file(\n",
    "    Path(config[\"signingWalletPemPath\"]),\n",
    ")\n",
    "\n",
    "# Nonce holder\n",
    "nonce_holder = AccountNonceHolder(test_account.nonce)\n",
    "\n",
    "farming_token = Token(config[\"farmingToken\"])\n",
    "farming_token_transfer = TokenTransfer(farming_token, to_decimal(10000, 18))\n",
    "transfer_rewards_tx = sc_factory.create_transaction_for_execute(\n",
    "    sender=test_address,\n",
    "    contract=guild_factory_address,\n",
    "    function=\"depositRewardsAdmins\",\n",
    "    gas_limit=10000000,\n",
    "    token_transfers=[farming_token_transfer],\n",
    ")\n",
    "\n",
    "transfer_rewards_tx.nonce = nonce_holder.get_nonce_then_increment()\n",
    "\n",
    "transfer_rewards_tx.signature = signer.sign(\n",
    "    TransactionComputer().compute_bytes_for_signing(transfer_rewards_tx)\n",
    ")\n",
    "\n",
    "result = provider.send_transaction(transfer_rewards_tx)"
   ]
  },
  {
   "cell_type": "markdown",
   "metadata": {},
   "source": [
    "TOPUP REWARDS"
   ]
  },
  {
   "cell_type": "code",
   "execution_count": null,
   "metadata": {},
   "outputs": [],
   "source": [
    "from utils.utils_chain import Account, WrapperAddress as Address, get_all_token_nonces_details_for_account\n",
    "from contracts.farm_contract import ClaimRewardsFarmEvent\n",
    "from utilities import to_decimal\n",
    "\n",
    "\n",
    "# user.address = Address(\"erd1awuuva7dhnlun9huwx7uefwpkhzjx9d3phenujgkv3zvx9tvsatsw420qt\")\n",
    "user.sync_nonce(context.network_provider.proxy)\n",
    "\n",
    "tx_hash = guild_contract.topup_rewards(user, context.network_provider.proxy, to_decimal(10000, 18))"
   ]
  }
 ],
 "metadata": {
  "kernelspec": {
   "display_name": ".venv",
   "language": "python",
   "name": "python3"
  },
  "language_info": {
   "codemirror_mode": {
    "name": "ipython",
    "version": 3
   },
   "file_extension": ".py",
   "mimetype": "text/x-python",
   "name": "python",
   "nbconvert_exporter": "python",
   "pygments_lexer": "ipython3",
   "version": "3.11.6"
  }
 },
 "nbformat": 4,
 "nbformat_minor": 2
}
