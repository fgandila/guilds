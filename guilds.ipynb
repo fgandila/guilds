{
 "cells": [
  {
   "cell_type": "code",
   "execution_count": 12,
   "metadata": {},
   "outputs": [
    {
     "name": "stderr",
     "output_type": "stream",
     "text": [
      "\u001b[93m2024-07-25 17:07:29,738 - WARNING - Structure definition for egld_wraps not found in /home/multiversx/Documents/guilds_py/deploy/configs-mainnet/deploy_structure.json\u001b[0m\n",
      "\u001b[93m2024-07-25 17:07:29,741 - WARNING - Structure definition for pairs_view not found in /home/multiversx/Documents/guilds_py/deploy/configs-mainnet/deploy_structure.json\u001b[0m\n",
      "\u001b[93m2024-07-25 17:07:29,743 - WARNING - Structure definition for stakings_boosted not found in /home/multiversx/Documents/guilds_py/deploy/configs-mainnet/deploy_structure.json\u001b[0m\n",
      "\u001b[93m2024-07-25 17:07:29,745 - WARNING - Structure definition for metastakings_boosted not found in /home/multiversx/Documents/guilds_py/deploy/configs-mainnet/deploy_structure.json\u001b[0m\n",
      "\u001b[93m2024-07-25 17:07:29,746 - WARNING - Structure definition for position_creator not found in /home/multiversx/Documents/guilds_py/deploy/configs-mainnet/deploy_structure.json\u001b[0m\n"
     ]
    },
    {
     "name": "stdout",
     "output_type": "stream",
     "text": [
      "loaded 1 accounts from 1 PEM files.\n"
     ]
    },
    {
     "name": "stderr",
     "output_type": "stream",
     "text": [
      "\u001b[38;20m2024-07-25 17:07:30,156 - DEBUG - Account.sync_nonce() done: 3663\u001b[0m\n",
      "\u001b[38;20m2024-07-25 17:07:30,370 - DEBUG - Account.sync_nonce() done: 3663\u001b[0m\n",
      "\u001b[92m2024-07-25 17:07:30,373 - INFO - Loaded 10 tokens.\u001b[0m\n",
      "\u001b[38;20m2024-07-25 17:07:30,561 - DEBUG - Account.sync_nonce() done: 3663\u001b[0m\n",
      "\u001b[92m2024-07-25 17:07:30,563 - INFO - Loaded 0 egld_wraps.\u001b[0m\n",
      "\u001b[92m2024-07-25 17:07:30,566 - INFO - Loaded 1 locked_assets.\u001b[0m\n",
      "\u001b[92m2024-07-25 17:07:30,568 - INFO - Loaded 1 proxies.\u001b[0m\n",
      "\u001b[92m2024-07-25 17:07:30,569 - INFO - Loaded 0 simple_locks.\u001b[0m\n",
      "\u001b[92m2024-07-25 17:07:30,571 - INFO - Loaded 1 simple_locks_energy.\u001b[0m\n",
      "\u001b[92m2024-07-25 17:07:30,572 - INFO - Loaded 1 fees_collectors.\u001b[0m\n",
      "\u001b[92m2024-07-25 17:07:30,573 - INFO - Loaded 1 unstakers.\u001b[0m\n",
      "\u001b[92m2024-07-25 17:07:30,574 - INFO - Loaded 1 proxies_v2.\u001b[0m\n",
      "\u001b[92m2024-07-25 17:07:30,575 - INFO - Loaded 0 router.\u001b[0m\n",
      "\u001b[92m2024-07-25 17:07:30,576 - INFO - Loaded 1 router_v2.\u001b[0m\n",
      "\u001b[92m2024-07-25 17:07:30,577 - INFO - Loaded 0 pairs.\u001b[0m\n",
      "\u001b[92m2024-07-25 17:07:30,578 - INFO - Loaded 9 pairs_v2.\u001b[0m\n",
      "\u001b[92m2024-07-25 17:07:30,579 - INFO - Loaded 0 pairs_view.\u001b[0m\n",
      "\u001b[92m2024-07-25 17:07:30,580 - INFO - Loaded 0 farms_community.\u001b[0m\n",
      "\u001b[92m2024-07-25 17:07:30,580 - INFO - Loaded 0 farms_unlocked.\u001b[0m\n",
      "\u001b[92m2024-07-25 17:07:30,581 - INFO - Loaded 0 farms_locked.\u001b[0m\n",
      "\u001b[92m2024-07-25 17:07:30,581 - INFO - Loaded 0 proxy_deployers.\u001b[0m\n",
      "\u001b[92m2024-07-25 17:07:30,582 - INFO - Loaded 9 farms_boosted.\u001b[0m\n",
      "\u001b[92m2024-07-25 17:07:30,582 - INFO - Loaded 0 price_discoveries.\u001b[0m\n",
      "\u001b[92m2024-07-25 17:07:30,583 - INFO - Loaded 0 stakings.\u001b[0m\n",
      "\u001b[92m2024-07-25 17:07:30,584 - INFO - Loaded 7 stakings_v2.\u001b[0m\n",
      "\u001b[92m2024-07-25 17:07:30,584 - INFO - Loaded 0 stakings_boosted.\u001b[0m\n",
      "\u001b[92m2024-07-25 17:07:30,585 - INFO - Loaded 0 metastakings.\u001b[0m\n",
      "\u001b[92m2024-07-25 17:07:30,585 - INFO - Loaded 4 metastakings_v2.\u001b[0m\n",
      "\u001b[92m2024-07-25 17:07:30,586 - INFO - Loaded 0 metastakings_boosted.\u001b[0m\n",
      "\u001b[92m2024-07-25 17:07:30,586 - INFO - Loaded 0 position_creator.\u001b[0m\n",
      "\u001b[92m2024-07-25 17:07:30,587 - INFO - Loaded 1 escrows.\u001b[0m\n",
      "\u001b[92m2024-07-25 17:07:30,588 - INFO - Loaded 1 lk_wraps.\u001b[0m\n",
      "\u001b[38;20m2024-07-25 17:07:30,790 - DEBUG - Account.sync_nonce() done: 3663\u001b[0m\n",
      "\u001b[92m2024-07-25 17:07:30,792 - INFO - Deployed contracts below:\u001b[0m\n",
      "\u001b[92m2024-07-25 17:07:30,793 - INFO - egld_wraps:\u001b[0m\n",
      "\u001b[92m2024-07-25 17:07:30,793 - INFO - locked_assets:\u001b[0m\n",
      "\u001b[92m2024-07-25 17:07:30,794 - INFO - Deployed locked asset contract: erd1qqqqqqqqqqqqqpgqjpt0qqgsrdhp2xqygpjtfrpwf76f9nvg2jpsg4q7th\u001b[0m\n",
      "\u001b[92m2024-07-25 17:07:30,794 - INFO -  ├ Unlocked token: MEX-455c57\u001b[0m\n",
      "\u001b[92m2024-07-25 17:07:30,795 - INFO -  ├ Locked token: LKMEX-aab910\u001b[0m\n",
      "\u001b[92m2024-07-25 17:07:30,796 - INFO - proxies:\u001b[0m\n",
      "\u001b[92m2024-07-25 17:07:30,796 - INFO - Deployed proxy contract: erd1qqqqqqqqqqqqqpgqrc4pg2xarca9z34njcxeur622qmfjp8w2jps89fxnl\u001b[0m\n",
      "\u001b[92m2024-07-25 17:07:30,797 - INFO -  ├ Token: MEX-455c57\u001b[0m\n",
      "\u001b[92m2024-07-25 17:07:30,797 - INFO -  ├ Locked tokens: ['LKMEX-aab910']\u001b[0m\n",
      "\u001b[92m2024-07-25 17:07:30,797 - INFO -  ├ Proxy LP token: LKLP-03a2fa\u001b[0m\n",
      "\u001b[92m2024-07-25 17:07:30,798 - INFO -  ├ Proxy Farm token: LKFARM-9d1ea8\u001b[0m\n",
      "\u001b[92m2024-07-25 17:07:30,799 - INFO - simple_locks:\u001b[0m\n",
      "\u001b[92m2024-07-25 17:07:30,799 - INFO - simple_locks_energy:\u001b[0m\n",
      "\u001b[92m2024-07-25 17:07:30,800 - INFO - Deployed simple lock energy contract: erd1qqqqqqqqqqqqqpgq0tajepcazernwt74820t8ef7t28vjfgukp2sw239f3\u001b[0m\n",
      "\u001b[92m2024-07-25 17:07:30,800 - INFO -  ├ Base token: MEX-455c57\u001b[0m\n",
      "\u001b[92m2024-07-25 17:07:30,800 - INFO -  ├ Locked token: XMEX-fda355\u001b[0m\n",
      "\u001b[92m2024-07-25 17:07:30,800 - INFO -  ├ Locked LP token: \u001b[0m\n",
      "\u001b[92m2024-07-25 17:07:30,801 - INFO -  ├ Locked Farm token: \u001b[0m\n",
      "\u001b[92m2024-07-25 17:07:30,801 - INFO - fees_collectors:\u001b[0m\n",
      "\u001b[92m2024-07-25 17:07:30,801 - INFO - Deployed fees collector contract: erd1qqqqqqqqqqqqqpgqjsnxqprks7qxfwkcg2m2v9hxkrchgm9akp2segrswt\u001b[0m\n",
      "\u001b[92m2024-07-25 17:07:30,802 - INFO - unstakers:\u001b[0m\n",
      "\u001b[92m2024-07-25 17:07:30,802 - INFO - Deployed token unstake contract: erd1qqqqqqqqqqqqqpgqxv0y4p6vvszrknaztatycac77yvsxqrrkp2sghd86c\u001b[0m\n",
      "\u001b[92m2024-07-25 17:07:30,802 - INFO - proxies_v2:\u001b[0m\n",
      "\u001b[92m2024-07-25 17:07:30,803 - INFO - Deployed proxy contract: erd1qqqqqqqqqqqqqpgqt6ltx52ukss9d2qag2k67at28a36xc9lkp2sr06394\u001b[0m\n",
      "\u001b[92m2024-07-25 17:07:30,803 - INFO -  ├ Token: MEX-455c57\u001b[0m\n",
      "\u001b[92m2024-07-25 17:07:30,803 - INFO -  ├ Locked tokens: ['LKMEX-aab910', 'XMEX-fda355']\u001b[0m\n",
      "\u001b[92m2024-07-25 17:07:30,804 - INFO -  ├ Proxy LP token: XMEXLP-2cbdce\u001b[0m\n",
      "\u001b[92m2024-07-25 17:07:30,804 - INFO -  ├ Proxy Farm token: XMEXFARM-e0a3dc\u001b[0m\n",
      "\u001b[92m2024-07-25 17:07:30,805 - INFO - router:\u001b[0m\n",
      "\u001b[92m2024-07-25 17:07:30,805 - INFO - router_v2:\u001b[0m\n",
      "\u001b[92m2024-07-25 17:07:30,805 - INFO - Deployed router contract: erd1qqqqqqqqqqqqqpgqq66xk9gfr4esuhem3jru86wg5hvp33a62jps2fy57p\u001b[0m\n",
      "\u001b[92m2024-07-25 17:07:30,806 - INFO - pairs:\u001b[0m\n",
      "\u001b[92m2024-07-25 17:07:30,806 - INFO - pairs_v2:\u001b[0m\n",
      "\u001b[92m2024-07-25 17:07:30,806 - INFO - Deployed pair contract: erd1qqqqqqqqqqqqqpgqa0fsfshnff4n76jhcye6k7uvd7qacsq42jpsp6shh2\u001b[0m\n",
      "\u001b[92m2024-07-25 17:07:30,806 - INFO -  ├ First token: WEGLD-bd4d79\u001b[0m\n",
      "\u001b[92m2024-07-25 17:07:30,807 - INFO -  ├ Second token: MEX-455c57\u001b[0m\n",
      "\u001b[92m2024-07-25 17:07:30,807 - INFO -  ├ LP token: EGLDMEX-0be9e5\u001b[0m\n",
      "\u001b[92m2024-07-25 17:07:30,807 - INFO - Deployed pair contract: erd1qqqqqqqqqqqqqpgqeel2kumf0r8ffyhth7pqdujjat9nx0862jpsg2pqaq\u001b[0m\n",
      "\u001b[92m2024-07-25 17:07:30,807 - INFO -  ├ First token: WEGLD-bd4d79\u001b[0m\n",
      "\u001b[92m2024-07-25 17:07:30,808 - INFO -  ├ Second token: USDC-c76f1f\u001b[0m\n",
      "\u001b[92m2024-07-25 17:07:30,808 - INFO -  ├ LP token: EGLDUSDC-594e5e\u001b[0m\n",
      "\u001b[92m2024-07-25 17:07:30,808 - INFO - Deployed pair contract: erd1qqqqqqqqqqqqqpgqav09xenkuqsdyeyy5evqyhuusvu4gl3t2jpss57g8x\u001b[0m\n",
      "\u001b[92m2024-07-25 17:07:30,808 - INFO -  ├ First token: WEGLD-bd4d79\u001b[0m\n",
      "\u001b[92m2024-07-25 17:07:30,809 - INFO -  ├ Second token: RIDE-7d18e9\u001b[0m\n",
      "\u001b[92m2024-07-25 17:07:30,809 - INFO -  ├ LP token: EGLDRIDE-7bd51a\u001b[0m\n",
      "\u001b[92m2024-07-25 17:07:30,809 - INFO - Deployed pair contract: erd1qqqqqqqqqqqqqpgqpmud7t8uprrxzgu8eq2mtkl08kesflj62jps9j8dyh\u001b[0m\n",
      "\u001b[92m2024-07-25 17:07:30,809 - INFO -  ├ First token: ITHEUM-df6f26\u001b[0m\n",
      "\u001b[92m2024-07-25 17:07:30,809 - INFO -  ├ Second token: WEGLD-bd4d79\u001b[0m\n",
      "\u001b[92m2024-07-25 17:07:30,810 - INFO -  ├ LP token: ITHWEGLD-1adc53\u001b[0m\n",
      "\u001b[92m2024-07-25 17:07:30,810 - INFO - Deployed pair contract: erd1qqqqqqqqqqqqqpgq0lzzvt2faev4upyf586tg38s84d7zsaj2jpsglugga\u001b[0m\n",
      "\u001b[92m2024-07-25 17:07:30,810 - INFO -  ├ First token: UTK-2f80e9\u001b[0m\n",
      "\u001b[92m2024-07-25 17:07:30,810 - INFO -  ├ Second token: WEGLD-bd4d79\u001b[0m\n",
      "\u001b[92m2024-07-25 17:07:30,811 - INFO -  ├ LP token: UTKWEGLD-c960d1\u001b[0m\n",
      "\u001b[92m2024-07-25 17:07:30,811 - INFO - Deployed pair contract: erd1qqqqqqqqqqqqqpgqf57y8m9krsvrceqxujngzm77p82zqc502jpsnnezqs\u001b[0m\n",
      "\u001b[92m2024-07-25 17:07:30,811 - INFO -  ├ First token: CRT-52decf\u001b[0m\n",
      "\u001b[92m2024-07-25 17:07:30,811 - INFO -  ├ Second token: WEGLD-bd4d79\u001b[0m\n",
      "\u001b[92m2024-07-25 17:07:30,812 - INFO -  ├ LP token: CRTWEGLD-1fac3f\u001b[0m\n",
      "\u001b[92m2024-07-25 17:07:30,812 - INFO - Deployed pair contract: erd1qqqqqqqqqqqqqpgqp5d4x3d263x4alnapwafwujch5xqmvyq2jpsk2xhsy\u001b[0m\n",
      "\u001b[92m2024-07-25 17:07:30,812 - INFO -  ├ First token: ASH-a642d1\u001b[0m\n",
      "\u001b[92m2024-07-25 17:07:30,812 - INFO -  ├ Second token: WEGLD-bd4d79\u001b[0m\n",
      "\u001b[92m2024-07-25 17:07:30,813 - INFO -  ├ LP token: ASHWEGLD-38545c\u001b[0m\n",
      "\u001b[92m2024-07-25 17:07:30,813 - INFO - Deployed pair contract: erd1qqqqqqqqqqqqqpgqtjhhs49h0q2ncld64l3thtk7s7yuw47v2jps8emt0v\u001b[0m\n",
      "\u001b[92m2024-07-25 17:07:30,813 - INFO -  ├ First token: ZPAY-247875\u001b[0m\n",
      "\u001b[92m2024-07-25 17:07:30,813 - INFO -  ├ Second token: WEGLD-bd4d79\u001b[0m\n",
      "\u001b[92m2024-07-25 17:07:30,814 - INFO -  ├ LP token: ZPAYWEGLD-34e5c1\u001b[0m\n",
      "\u001b[92m2024-07-25 17:07:30,814 - INFO - Deployed pair contract: erd1qqqqqqqqqqqqqpgqp32ecg03fyxgt2pf2fsxyg4knvhfvtgz2jps6rx6gf\u001b[0m\n",
      "\u001b[92m2024-07-25 17:07:30,814 - INFO -  ├ First token: BHAT-c1fde3\u001b[0m\n",
      "\u001b[92m2024-07-25 17:07:30,814 - INFO -  ├ Second token: WEGLD-bd4d79\u001b[0m\n",
      "\u001b[92m2024-07-25 17:07:30,814 - INFO -  ├ LP token: BHATWEGLD-f45935\u001b[0m\n",
      "\u001b[92m2024-07-25 17:07:30,815 - INFO - pairs_view:\u001b[0m\n",
      "\u001b[92m2024-07-25 17:07:30,815 - INFO - farms_community:\u001b[0m\n",
      "\u001b[92m2024-07-25 17:07:30,815 - INFO - farms_unlocked:\u001b[0m\n",
      "\u001b[92m2024-07-25 17:07:30,816 - INFO - farms_locked:\u001b[0m\n",
      "\u001b[92m2024-07-25 17:07:30,816 - INFO - proxy_deployers:\u001b[0m\n",
      "\u001b[92m2024-07-25 17:07:30,816 - INFO - farms_boosted:\u001b[0m\n",
      "\u001b[92m2024-07-25 17:07:30,817 - INFO - Deployed farm contract: erd1qqqqqqqqqqqqqpgqapxdp9gjxtg60mjwhle3n6h88zch9e7kkp2s8aqhkg\u001b[0m\n",
      "\u001b[92m2024-07-25 17:07:30,817 - INFO -  ├ Farming token: EGLDMEX-0be9e5\u001b[0m\n",
      "\u001b[92m2024-07-25 17:07:30,817 - INFO -  ├ Farmed token: MEX-455c57\u001b[0m\n",
      "\u001b[92m2024-07-25 17:07:30,817 - INFO -  ├ Farm token: EGLDMEXFL-c2521e\u001b[0m\n",
      "\u001b[92m2024-07-25 17:07:30,818 - INFO - Deployed farm contract: erd1qqqqqqqqqqqqqpgqv0pz5z3fkz54nml6pkzzdruuf020gqzykp2sya7kkv\u001b[0m\n",
      "\u001b[92m2024-07-25 17:07:30,818 - INFO -  ├ Farming token: EGLDUSDC-594e5e\u001b[0m\n",
      "\u001b[92m2024-07-25 17:07:30,818 - INFO -  ├ Farmed token: MEX-455c57\u001b[0m\n",
      "\u001b[92m2024-07-25 17:07:30,819 - INFO -  ├ Farm token: EGLDUSDCFL-45109b\u001b[0m\n",
      "\u001b[92m2024-07-25 17:07:30,819 - INFO - Deployed farm contract: erd1qqqqqqqqqqqqqpgqenvn0s3ldc94q2mlkaqx4arj3zfnvnmakp2sxca2h9\u001b[0m\n",
      "\u001b[92m2024-07-25 17:07:30,819 - INFO -  ├ Farming token: EGLDRIDE-7bd51a\u001b[0m\n",
      "\u001b[92m2024-07-25 17:07:30,819 - INFO -  ├ Farmed token: MEX-455c57\u001b[0m\n",
      "\u001b[92m2024-07-25 17:07:30,820 - INFO -  ├ Farm token: EGLDRIDEFL-7aac94\u001b[0m\n",
      "\u001b[92m2024-07-25 17:07:30,820 - INFO - Deployed farm contract: erd1qqqqqqqqqqqqqpgqrdq6zvepdxg36rey8pmluwur43q4hcx3kp2su4yltq\u001b[0m\n",
      "\u001b[92m2024-07-25 17:07:30,820 - INFO -  ├ Farming token: ITHWEGLD-1adc53\u001b[0m\n",
      "\u001b[92m2024-07-25 17:07:30,820 - INFO -  ├ Farmed token: MEX-455c57\u001b[0m\n",
      "\u001b[92m2024-07-25 17:07:30,821 - INFO -  ├ Farm token: ITHWEGLDFL-7d381f\u001b[0m\n",
      "\u001b[92m2024-07-25 17:07:30,821 - INFO - Deployed farm contract: erd1qqqqqqqqqqqqqpgq4acurmluezvmhna8tztgcrnwh0l70a2wkp2sfh6jkp\u001b[0m\n",
      "\u001b[92m2024-07-25 17:07:30,821 - INFO -  ├ Farming token: UTKWEGLD-c960d1\u001b[0m\n",
      "\u001b[92m2024-07-25 17:07:30,821 - INFO -  ├ Farmed token: MEX-455c57\u001b[0m\n",
      "\u001b[92m2024-07-25 17:07:30,822 - INFO -  ├ Farm token: UTKWEGLDFL-ba26d2\u001b[0m\n",
      "\u001b[92m2024-07-25 17:07:30,822 - INFO - Deployed farm contract: erd1qqqqqqqqqqqqqpgquhqfknr9dg5t0xma0zcc55dm8gwv5rpkkp2sq8f40p\u001b[0m\n",
      "\u001b[92m2024-07-25 17:07:30,822 - INFO -  ├ Farming token: CRTWEGLD-1fac3f\u001b[0m\n",
      "\u001b[92m2024-07-25 17:07:30,822 - INFO -  ├ Farmed token: MEX-455c57\u001b[0m\n",
      "\u001b[92m2024-07-25 17:07:30,823 - INFO -  ├ Farm token: CRTWEGLDFL-4fd518\u001b[0m\n",
      "\u001b[92m2024-07-25 17:07:30,823 - INFO - Deployed farm contract: erd1qqqqqqqqqqqqqpgq6v5ta4memvrhjs4x3gqn90c3pujc77takp2sqhxm9j\u001b[0m\n",
      "\u001b[92m2024-07-25 17:07:30,823 - INFO -  ├ Farming token: ASHWEGLD-38545c\u001b[0m\n",
      "\u001b[92m2024-07-25 17:07:30,824 - INFO -  ├ Farmed token: MEX-455c57\u001b[0m\n",
      "\u001b[92m2024-07-25 17:07:30,824 - INFO -  ├ Farm token: ASHWEGLDFL-9612cf\u001b[0m\n",
      "\u001b[92m2024-07-25 17:07:30,824 - INFO - Deployed farm contract: erd1qqqqqqqqqqqqqpgqqqckvlhd3n7ntt5w3vln4xh3tsfpj0hr2jpsxlzgcj\u001b[0m\n",
      "\u001b[92m2024-07-25 17:07:30,824 - INFO -  ├ Farming token: ZPAYWEGLD-34e5c1\u001b[0m\n",
      "\u001b[92m2024-07-25 17:07:30,825 - INFO -  ├ Farmed token: MEX-455c57\u001b[0m\n",
      "\u001b[92m2024-07-25 17:07:30,825 - INFO -  ├ Farm token: ZPAYEGLDFL-4faf85\u001b[0m\n",
      "\u001b[92m2024-07-25 17:07:30,825 - INFO - Deployed farm contract: erd1qqqqqqqqqqqqqpgqcfkmz2j0e8pj0nzuk9j6mzcav0wpthq52jpsg546ch\u001b[0m\n",
      "\u001b[92m2024-07-25 17:07:30,825 - INFO -  ├ Farming token: BHATWEGLD-f45935\u001b[0m\n",
      "\u001b[92m2024-07-25 17:07:30,826 - INFO -  ├ Farmed token: MEX-455c57\u001b[0m\n",
      "\u001b[92m2024-07-25 17:07:30,826 - INFO -  ├ Farm token: BHATEGLDFL-259b84\u001b[0m\n",
      "\u001b[92m2024-07-25 17:07:30,826 - INFO - price_discoveries:\u001b[0m\n",
      "\u001b[92m2024-07-25 17:07:30,826 - INFO - stakings:\u001b[0m\n",
      "\u001b[92m2024-07-25 17:07:30,827 - INFO - stakings_v2:\u001b[0m\n",
      "\u001b[92m2024-07-25 17:07:30,827 - INFO - Deployed staking contract: erd1qqqqqqqqqqqqqpgqmqq78c5htmdnws8hm5u4suvags36eq092jpsaxv3e7\u001b[0m\n",
      "\u001b[92m2024-07-25 17:07:30,827 - INFO -  ├ Staking token: RIDE-7d18e9\u001b[0m\n",
      "\u001b[92m2024-07-25 17:07:30,828 - INFO -  ├ Stake token: SRIDE-4ab1d4\u001b[0m\n",
      "\u001b[92m2024-07-25 17:07:30,828 - INFO - Deployed staking contract: erd1qqqqqqqqqqqqqpgqr7kdhagkqgxvjrsk7s5333l9wwnenr9g2jps8puq33\u001b[0m\n",
      "\u001b[92m2024-07-25 17:07:30,828 - INFO -  ├ Staking token: ZPAY-247875\u001b[0m\n",
      "\u001b[92m2024-07-25 17:07:30,828 - INFO -  ├ Stake token: SZPAY-9f1b39\u001b[0m\n",
      "\u001b[92m2024-07-25 17:07:30,829 - INFO - Deployed staking contract: erd1qqqqqqqqqqqqqpgqzps75vsk97w9nsx2cenv2r2tyxl4fl402jpsx78m9j\u001b[0m\n",
      "\u001b[92m2024-07-25 17:07:30,829 - INFO -  ├ Staking token: ITHEUM-df6f26\u001b[0m\n",
      "\u001b[92m2024-07-25 17:07:30,829 - INFO -  ├ Stake token: SITHEUM-e05083\u001b[0m\n",
      "\u001b[92m2024-07-25 17:07:30,829 - INFO - Deployed staking contract: erd1qqqqqqqqqqqqqpgq45zs77q884ts6y9zj4jyqfn6ydev8ruv2jps3tteqq\u001b[0m\n",
      "\u001b[92m2024-07-25 17:07:30,830 - INFO -  ├ Staking token: BHAT-c1fde3\u001b[0m\n",
      "\u001b[92m2024-07-25 17:07:30,830 - INFO -  ├ Stake token: SBHAT-89efd3\u001b[0m\n",
      "\u001b[92m2024-07-25 17:07:30,830 - INFO - Deployed staking contract: erd1qqqqqqqqqqqqqpgqcedkmj8ezme6mtautj79ngv7fez978le2jps8jtawn\u001b[0m\n",
      "\u001b[92m2024-07-25 17:07:30,830 - INFO -  ├ Staking token: UTK-2f80e9\u001b[0m\n",
      "\u001b[92m2024-07-25 17:07:30,831 - INFO -  ├ Stake token: SUTK-ba35f3\u001b[0m\n",
      "\u001b[92m2024-07-25 17:07:30,831 - INFO - Deployed staking contract: erd1qqqqqqqqqqqqqpgqp2wfzvkhlpkwcdxx25qzznx33345979w2jpsl3gflj\u001b[0m\n",
      "\u001b[92m2024-07-25 17:07:30,831 - INFO -  ├ Staking token: CRT-52decf\u001b[0m\n",
      "\u001b[92m2024-07-25 17:07:30,831 - INFO -  ├ Stake token: SCRT-acbd64\u001b[0m\n",
      "\u001b[92m2024-07-25 17:07:30,832 - INFO - Deployed staking contract: erd1qqqqqqqqqqqqqpgqjdlnu9ggwfc79pygn5fjjgmdm6d7vu5e2jpsw59amp\u001b[0m\n",
      "\u001b[92m2024-07-25 17:07:30,832 - INFO -  ├ Staking token: ASH-a642d1\u001b[0m\n",
      "\u001b[92m2024-07-25 17:07:30,832 - INFO -  ├ Stake token: SASH-3671bd\u001b[0m\n",
      "\u001b[92m2024-07-25 17:07:30,832 - INFO - stakings_boosted:\u001b[0m\n",
      "\u001b[92m2024-07-25 17:07:30,833 - INFO - metastakings:\u001b[0m\n",
      "\u001b[92m2024-07-25 17:07:30,833 - INFO - metastakings_v2:\u001b[0m\n",
      "\u001b[92m2024-07-25 17:07:30,833 - INFO - Deployed metastaking contract: erd1qqqqqqqqqqqqqpgqjvcrk4tun6l438crr0jcz7q3yzp66smwkp2shzmazs\u001b[0m\n",
      "\u001b[92m2024-07-25 17:07:30,833 - INFO -  ├ Staking token: RIDE-7d18e9\u001b[0m\n",
      "\u001b[92m2024-07-25 17:07:30,834 - INFO -  ├ Metastake token: METARIDELK-f0b4bf\u001b[0m\n",
      "\u001b[92m2024-07-25 17:07:30,834 - INFO -  ├ Stake address: erd1qqqqqqqqqqqqqpgqmqq78c5htmdnws8hm5u4suvags36eq092jpsaxv3e7\u001b[0m\n",
      "\u001b[92m2024-07-25 17:07:30,834 - INFO -  ├ Farm address: erd1qqqqqqqqqqqqqpgqenvn0s3ldc94q2mlkaqx4arj3zfnvnmakp2sxca2h9\u001b[0m\n",
      "\u001b[92m2024-07-25 17:07:30,835 - INFO -  ├ LP address: erd1qqqqqqqqqqqqqpgqav09xenkuqsdyeyy5evqyhuusvu4gl3t2jpss57g8x\u001b[0m\n",
      "\u001b[92m2024-07-25 17:07:30,835 - INFO - Deployed metastaking contract: erd1qqqqqqqqqqqqqpgqduftj7u5u5d4ql2znchcmrcet9kcze7ckp2sk4474f\u001b[0m\n",
      "\u001b[92m2024-07-25 17:07:30,835 - INFO -  ├ Staking token: ITHEUM-df6f26\u001b[0m\n",
      "\u001b[92m2024-07-25 17:07:30,836 - INFO -  ├ Metastake token: METAITHLK-4c3f2e\u001b[0m\n",
      "\u001b[92m2024-07-25 17:07:30,836 - INFO -  ├ Stake address: erd1qqqqqqqqqqqqqpgqzps75vsk97w9nsx2cenv2r2tyxl4fl402jpsx78m9j\u001b[0m\n",
      "\u001b[92m2024-07-25 17:07:30,836 - INFO -  ├ Farm address: erd1qqqqqqqqqqqqqpgqrdq6zvepdxg36rey8pmluwur43q4hcx3kp2su4yltq\u001b[0m\n",
      "\u001b[92m2024-07-25 17:07:30,836 - INFO -  ├ LP address: erd1qqqqqqqqqqqqqpgqpmud7t8uprrxzgu8eq2mtkl08kesflj62jps9j8dyh\u001b[0m\n",
      "\u001b[92m2024-07-25 17:07:30,837 - INFO - Deployed metastaking contract: erd1qqqqqqqqqqqqqpgqmgd0eu4z9kzvrputt4l4kw4fqf2wcjsekp2sftan7s\u001b[0m\n",
      "\u001b[92m2024-07-25 17:07:30,837 - INFO -  ├ Staking token: UTK-2f80e9\u001b[0m\n",
      "\u001b[92m2024-07-25 17:07:30,837 - INFO -  ├ Metastake token: METAUTKLK-112f52\u001b[0m\n",
      "\u001b[92m2024-07-25 17:07:30,837 - INFO -  ├ Stake address: erd1qqqqqqqqqqqqqpgqcedkmj8ezme6mtautj79ngv7fez978le2jps8jtawn\u001b[0m\n",
      "\u001b[92m2024-07-25 17:07:30,838 - INFO -  ├ Farm address: erd1qqqqqqqqqqqqqpgq4acurmluezvmhna8tztgcrnwh0l70a2wkp2sfh6jkp\u001b[0m\n",
      "\u001b[92m2024-07-25 17:07:30,838 - INFO -  ├ LP address: erd1qqqqqqqqqqqqqpgq0lzzvt2faev4upyf586tg38s84d7zsaj2jpsglugga\u001b[0m\n",
      "\u001b[92m2024-07-25 17:07:30,838 - INFO - Deployed metastaking contract: erd1qqqqqqqqqqqqqpgqx6zhjfjnwxpzdcj594htl0y6w60aa3a8kp2se2pdms\u001b[0m\n",
      "\u001b[92m2024-07-25 17:07:30,839 - INFO -  ├ Staking token: CRT-52decf\u001b[0m\n",
      "\u001b[92m2024-07-25 17:07:30,839 - INFO -  ├ Metastake token: METACRTLK-39d11c\u001b[0m\n",
      "\u001b[92m2024-07-25 17:07:30,839 - INFO -  ├ Stake address: erd1qqqqqqqqqqqqqpgqp2wfzvkhlpkwcdxx25qzznx33345979w2jpsl3gflj\u001b[0m\n",
      "\u001b[92m2024-07-25 17:07:30,840 - INFO -  ├ Farm address: erd1qqqqqqqqqqqqqpgquhqfknr9dg5t0xma0zcc55dm8gwv5rpkkp2sq8f40p\u001b[0m\n",
      "\u001b[92m2024-07-25 17:07:30,840 - INFO -  ├ LP address: erd1qqqqqqqqqqqqqpgqf57y8m9krsvrceqxujngzm77p82zqc502jpsnnezqs\u001b[0m\n",
      "\u001b[92m2024-07-25 17:07:30,840 - INFO - metastakings_boosted:\u001b[0m\n",
      "\u001b[92m2024-07-25 17:07:30,840 - INFO - position_creator:\u001b[0m\n",
      "\u001b[92m2024-07-25 17:07:30,841 - INFO - escrows:\u001b[0m\n",
      "\u001b[92m2024-07-25 17:07:30,841 - INFO - Deployed escrow contract: erd1qqqqqqqqqqqqqpgqeh4yv09rmyg4xgn5ma03mvm4v5gndu8w2jpsglz3cn\u001b[0m\n",
      "\u001b[92m2024-07-25 17:07:30,841 - INFO - lk_wraps:\u001b[0m\n",
      "\u001b[92m2024-07-25 17:07:30,841 - INFO - Deployed locked token wrapping contract: erd1qqqqqqqqqqqqqpgqu64gygjs5ted4rupaewaszyhaxl9lv7m2jpsw47nzr\u001b[0m\n"
     ]
    },
    {
     "name": "stdout",
     "output_type": "stream",
     "text": [
      "\n",
      "\n",
      "\n",
      "\n",
      "\n",
      "\n",
      "\n",
      "\n",
      "\n",
      "\n",
      "\n",
      "\n",
      "\n",
      "\n",
      "\n",
      "\n",
      "\n",
      "\n",
      "\n",
      "\n",
      "\n",
      "\n",
      "\n",
      "\n",
      "\n",
      "\n",
      "\n",
      "\n"
     ]
    }
   ],
   "source": [
    "import sys\n",
    "from pathlib import Path\n",
    "\n",
    "from utilities import get_default_data\n",
    "sys.path.append(str(Path.cwd().parent.parent.absolute()))\n",
    "import config\n",
    "import yaml\n",
    "\n",
    "from context import Context\n",
    "from utils.utils_chain import WrapperAddress as Address, Account, hex_to_string\n",
    "from utils.utils_chain import nominated_amount\n",
    "from utils.contract_retrievers import retrieve_farm_by_address\n",
    "from utils.utils_chain import get_token_details_for_address, get_all_token_nonces_details_for_account\n",
    "from utils.utils_tx import ESDTToken\n",
    "from contracts.guild_contract import GuildContract\n",
    "context = Context()\n",
    "\n",
    "(\n",
    "    configuration,\n",
    "    test_address,\n",
    "    guild_factory_address,\n",
    "    provider,\n",
    "    network_config,\n",
    "    signer,\n",
    "    nonce_holder,\n",
    "    sc_factory,\n",
    ") = get_default_data()"
   ]
  },
  {
   "cell_type": "code",
   "execution_count": 13,
   "metadata": {},
   "outputs": [
    {
     "name": "stderr",
     "output_type": "stream",
     "text": [
      "\u001b[38;20m2024-07-25 17:07:32,659 - DEBUG - Account.sync_nonce() done: 2195\u001b[0m\n"
     ]
    }
   ],
   "source": [
    "user = Account(pem_file=\"~/Documents/sh1.pem\")\n",
    "user.address = Address(\"erd1j8m8clpzxp4wpuv2hesw36whre6nysga9ggqrmy8n0shm4rgyues8pe5nd\")\n",
    "user.sync_nonce(context.network_provider.proxy)"
   ]
  },
  {
   "cell_type": "code",
   "execution_count": 4,
   "metadata": {},
   "outputs": [],
   "source": [
    "from utils.contract_retrievers import retrieve_guild_by_address\n",
    "\n",
    "\n",
    "with open(\"config_file.yaml\", \"r\") as file:\n",
    "    config_file = yaml.safe_load(file)\n",
    "\n",
    "guild_contract: GuildContract = retrieve_guild_by_address(config_file[\"deployedGuildAddress\"])\n",
    "guild_address = Address(config_file[\"deployedGuildAddress\"])"
   ]
  },
  {
   "cell_type": "markdown",
   "metadata": {},
   "source": [
    "ADVANCE EPOCHS"
   ]
  },
  {
   "cell_type": "code",
   "execution_count": null,
   "metadata": {},
   "outputs": [],
   "source": [
    "from contracts.builtin_contracts import SFControlContract\n",
    "\n",
    "sf_control_contract = SFControlContract(config.SF_CONTROL_ADDRESS)\n",
    "sf_control_contract.epochs_fast_forward(context.deployer_account, context.network_provider.proxy, 1, 20)"
   ]
  },
  {
   "cell_type": "markdown",
   "metadata": {},
   "source": [
    "SEND UTK"
   ]
  },
  {
   "cell_type": "markdown",
   "metadata": {},
   "source": []
  },
  {
   "cell_type": "code",
   "execution_count": null,
   "metadata": {},
   "outputs": [],
   "source": [
    "import time\n",
    "from multiversx_sdk import AccountNonceHolder, TokenPayment, TransactionComputer, UserSigner\n",
    "from multiversx_sdk.core.transaction_builders import ContractCallBuilder, ContractDeploymentBuilder, MultiESDTNFTTransferBuilder, DefaultTransactionBuildersConfiguration\n",
    "\n",
    "\n",
    "token = \"UTK-2f80e9\"\n",
    "holder = Account(pem_file=\"~/Documents/sh1.pem\", pem_index=0)\n",
    "holder.address = Address(\"erd1awuuva7dhnlun9huwx7uefwpkhzjx9d3phenujgkv3zvx9tvsatsw420qt\")\n",
    "user.sync_nonce(context.network_provider.proxy)\n",
    "holder.sync_nonce(context.network_provider.proxy)\n",
    "user_signer = UserSigner.from_pem_file(Path(\"~/Documents/sh1.pem\"))\n",
    "\n",
    "\n",
    "hashes = []\n",
    "configs = DefaultTransactionBuildersConfiguration(chain_id=\"1\")\n",
    "\n",
    "\n",
    "transfers = [\n",
    "    TokenPayment.meta_esdt_from_amount(token, 0, 100000, 18)\n",
    "             ]\n",
    "\n",
    "builder = MultiESDTNFTTransferBuilder(\n",
    "        configs,\n",
    "        destination=user.address,\n",
    "        sender=holder.address,\n",
    "        gas_limit=30000000,\n",
    "        payments=transfers\n",
    "    )\n",
    "\n",
    "tx = builder.build()\n",
    "tx.nonce = holder.nonce\n",
    "tx_computer = TransactionComputer()\n",
    "tx.signature = user_signer.sign(tx_computer.compute_bytes_for_signing(tx))\n",
    "\n",
    "hash = context.network_provider.proxy.send_transaction(tx)\n",
    "print(hash)\n",
    "hashes.append(hash)\n",
    "time.sleep(2)"
   ]
  },
  {
   "cell_type": "markdown",
   "metadata": {},
   "source": [
    "ISSUE TOKENS"
   ]
  },
  {
   "cell_type": "code",
   "execution_count": null,
   "metadata": {},
   "outputs": [],
   "source": [
    "import time\n",
    "from contracts.builtin_contracts import ESDTContract\n",
    "esdt_contract = ESDTContract(config.TOKENS_CONTRACT_ADDRESS)\n",
    "nr_tokens = 1\n",
    "token_ticker = \"UTKFARM\"\n",
    "holder = Account(pem_file=\"~/Documents/sh1.pem\", pem_index=0)\n",
    "holder.address = Address(\"erd1awuuva7dhnlun9huwx7uefwpkhzjx9d3phenujgkv3zvx9tvsatsw420qt\")\n",
    "holder.sync_nonce(context.network_provider.proxy)\n",
    "\n",
    "# issue a number of nr_tokens tokens\n",
    "hashes = []\n",
    "# for i in range(1, nr_tokens+1):\n",
    "hash = esdt_contract.issue_fungible_token(holder, context.network_provider.proxy, \n",
    "                                     [f\"{token_ticker}\", f\"{token_ticker}\", 1000000000000000000000000000, 18, \n",
    "                                      \"canMint\", \"true\", \"canBurn\", \"true\", \"canPause\", \"true\", \"canFreeze\", \"true\", \"canWipe\", \"true\", \"canChangeOwner\", \"true\", \"canUpgrade\", \"true\", \"canAddSpecialRoles\", \"true\"])\n",
    "print(f\"Issued {token_ticker} in: {hash}\")\n",
    "hashes.append(hash)\n",
    "time.sleep(1)\n",
    "\n",
    "# check issue success and retrieve tokens\n",
    "issued_tokens = []\n",
    "for hash in hashes:\n",
    "    if context.network_provider.check_complex_tx_status(hash, \"issue token\"):\n",
    "        tx_data = context.network_provider.proxy.get_transaction(hash)\n",
    "        issue_event = tx_data.logs.find_first_or_none_event(\"issue\")\n",
    "        issued_token = str(issue_event.topics[0])\n",
    "        print(issue_event.topics[0].raw)\n",
    "        print(\"Issued token:\", issued_token)\n",
    "        issued_tokens.append(issued_token)\n",
    "    else:\n",
    "        print(f\"Transaction {hash} failed!\")\n",
    "\n",
    "print(f'Issued ESDT Tokens: {issued_tokens}')"
   ]
  },
  {
   "cell_type": "markdown",
   "metadata": {},
   "source": [
    "GUILD QUERY"
   ]
  },
  {
   "cell_type": "code",
   "execution_count": 10,
   "metadata": {},
   "outputs": [
    {
     "data": {
      "text/plain": [
       "'55544b2d326638306539'"
      ]
     },
     "execution_count": 10,
     "metadata": {},
     "output_type": "execute_result"
    }
   ],
   "source": [
    "from multiversx_sdk import SmartContractTransactionsFactory\n",
    "from utilities import get_default_data\n",
    "from utils.contract_data_fetchers import GuildContractDataFetcher\n",
    "\n",
    "(\n",
    "    configuration,\n",
    "    test_address,\n",
    "    guild_factory_address,\n",
    "    provider,\n",
    "    network_config,\n",
    "    signer,\n",
    "    nonce_holder,\n",
    "    sc_factory,\n",
    ") = get_default_data()\n",
    "\n",
    "# context.network_provider.proxy.get_data('getFarmTokenId')\n",
    "guild_contract_address = Address(configuration[\"guildScAddressModel\"])\n",
    "GuildContractDataFetcher(guild_contract_address,context.network_provider.proxy.url).get_data(\"getRewardTokenId\")\n"
   ]
  },
  {
   "cell_type": "markdown",
   "metadata": {},
   "source": [
    "PAUSE"
   ]
  },
  {
   "cell_type": "code",
   "execution_count": null,
   "metadata": {},
   "outputs": [],
   "source": [
    "\n",
    "from contracts.farm_contract import FarmContract\n",
    "# from contracts.guild_contract import GuildContract\n",
    "user.address = Address(\"erd1awuuva7dhnlun9huwx7uefwpkhzjx9d3phenujgkv3zvx9tvsatsw420qt\")\n",
    "user.sync_nonce(context.network_provider.proxy)\n",
    "\n",
    "guild_contract: FarmContract = retrieve_farm_by_address(config_file[\"guildScAddressModel\"])\n",
    "# guild_contract.address = Address(config_file[\"deployedGuildAddress\"])\n",
    "\n",
    "tx_hash = guild_contract.pause(user, context.network_provider.proxy)"
   ]
  },
  {
   "cell_type": "markdown",
   "metadata": {},
   "source": [
    "RESUME"
   ]
  },
  {
   "cell_type": "code",
   "execution_count": null,
   "metadata": {},
   "outputs": [],
   "source": [
    "import yaml\n",
    "from contracts.guild_contract import GuildContract\n",
    "\n",
    "\n",
    "with open(\"config_file.yaml\", \"r\") as file:\n",
    "    config_file = yaml.safe_load(file)\n",
    "\n",
    "\n",
    "user.sync_nonce(context.network_provider.proxy)\n",
    "context.deployer_account.sync_nonce(context.network_provider.proxy)\n",
    "\n",
    "guild_contract: GuildContract = retrieve_farm_by_address(config_file[\"guildScAddressModel\"])\n",
    "# guild_contract.address = Address(config_file[\"deployedGuildAddress\"])\n",
    "\n",
    "tx_hash = guild_contract.resume(user, context.network_provider.proxy)"
   ]
  },
  {
   "cell_type": "markdown",
   "metadata": {},
   "source": [
    "START PRODUCE REWARDS"
   ]
  },
  {
   "cell_type": "code",
   "execution_count": null,
   "metadata": {},
   "outputs": [],
   "source": [
    "import yaml\n",
    "from contracts.guild_contract import GuildContract\n",
    "\n",
    "\n",
    "with open(\"config_file.yaml\", \"r\") as file:\n",
    "    config_file = yaml.safe_load(file)\n",
    "\n",
    "context.deployer_account.sync_nonce(context.network_provider.proxy)\n",
    "\n",
    "guild_contract: GuildContract = retrieve_farm_by_address(config_file[\"deployedGuildAddress\"])\n",
    "# guild_contract.address = Address(config_file[\"deployedGuildAddress\"])\n",
    "\n",
    "tx_hash = guild_contract.start_produce_rewards(user, context.network_provider.proxy)"
   ]
  },
  {
   "cell_type": "markdown",
   "metadata": {},
   "source": [
    "REGISTER FARM TOKEN"
   ]
  },
  {
   "cell_type": "code",
   "execution_count": null,
   "metadata": {},
   "outputs": [],
   "source": [
    "import yaml\n",
    "import time\n",
    "from utilities import tx_success, get_default_data\n",
    "from utils.contract_data_fetchers import FarmContractDataFetcher\n",
    "from multiversx_sdk import TransactionComputer\n",
    "\n",
    "guild_address = Address(config_file[\"deployedGuildAddress\"])\n",
    "token = \"UTK-2f80e9\"\n",
    "\n",
    "(\n",
    "    config,\n",
    "    test_address,\n",
    "    guild_factory_address,\n",
    "    provider,\n",
    "    network_config,\n",
    "    signer,\n",
    "    nonce_holder,\n",
    "    sc_factory,\n",
    ") = get_default_data()\n",
    "\n",
    "\n",
    "register_farm_token_tx = sc_factory.create_transaction_for_execute(\n",
    "    sender=test_address,\n",
    "    contract=guild_address,\n",
    "    function=\"registerFarmToken\",\n",
    "    gas_limit=70000000,\n",
    "    arguments=[],\n",
    "    # \"UTKFARM\", \"UTKFARM\", 18,\"\"\n",
    "    native_transfer_amount=50000000000000000\n",
    " \n",
    ")\n",
    "register_farm_token_tx.nonce = nonce_holder.get_nonce_then_increment()\n",
    "register_farm_token_tx.signature = signer.sign(\n",
    "    TransactionComputer().compute_bytes_for_signing(register_farm_token_tx)\n",
    ")\n",
    "\n",
    "result = provider.send_transaction(register_farm_token_tx)\n",
    "print(\"Register Farm Token transaction hash:\", result)\n",
    "time.sleep(3)\n",
    "tx_status = tx_success(result, provider)\n",
    "if not tx_status:\n",
    "    print(\"Register Farm Token transaction failed\")\n",
    "else:\n",
    "    print(\"Farm token registered successfully\")\n"
   ]
  },
  {
   "cell_type": "markdown",
   "metadata": {},
   "source": [
    "Set admin"
   ]
  },
  {
   "cell_type": "code",
   "execution_count": null,
   "metadata": {},
   "outputs": [],
   "source": [
    "from multiversx_sdk.core.transaction_builders import ContractCallBuilder, ESDTNFTTransferBuilder, DefaultTransactionBuildersConfiguration\n",
    "from multiversx_sdk import AccountNonceHolder, TokenPayment, TransactionComputer, UserSigner\n",
    "\n",
    "\n",
    "newAdmin = Account(pem_file=\"~/Documents/sh1.pem\", pem_index=0)\n",
    "newAdmin = Address(\"erd1qrat8pxccn8mj7n47v38uw7q4nkej6zq6mny3ljkj29uzdf6s42srfja7q\")\n",
    "config = DefaultTransactionBuildersConfiguration(chain_id=\"1\")\n",
    "user_signer = UserSigner.from_pem_file(Path(\"~/Documents/sh1.pem\"))\n",
    "user.sync_nonce(context.network_provider.proxy)\n",
    "\n",
    "builder = ContractCallBuilder(\n",
    "    config,\n",
    "    contract=Address(guild_contract.address),\n",
    "    function_name=\"addAdmin\",\n",
    "    caller=user.address,\n",
    "    nonce=user.nonce,\n",
    "    call_arguments=[newAdmin],\n",
    "    gas_limit=30000000\n",
    ")\n",
    "\n",
    "tx = builder.build()\n",
    "tx_computer = TransactionComputer()\n",
    "tx.signature = user_signer.sign(tx_computer.compute_bytes_for_signing(tx))\n",
    "\n",
    "hash = context.network_provider.proxy.send_transaction(tx)\n"
   ]
  },
  {
   "cell_type": "code",
   "execution_count": null,
   "metadata": {},
   "outputs": [],
   "source": [
    "#GUILD FACTORY QUERIES\n",
    "from multiversx_sdk import SmartContractTransactionsFactory\n",
    "from utilities import get_default_data\n",
    "from utils.contract_data_fetchers import GuildFactoryDataFetcher\n",
    "\n",
    "(\n",
    "    configuration,\n",
    "    test_address,\n",
    "    guild_factory_address,\n",
    "    provider,\n",
    "    network_config,\n",
    "    signer,\n",
    "    nonce_holder,\n",
    "    sc_factory,\n",
    ") = get_default_data()\n",
    "\n",
    "# context.network_provider.proxy.get_data('getFarmTokenId')\n",
    "guild_contract_address = Address(configuration[\"guildFactoryScAddress\"])\n",
    "GuildFactoryDataFetcher(guild_contract_address,context.network_provider.proxy.url).get_data(\"getConfigAddress\")\n"
   ]
  },
  {
   "cell_type": "markdown",
   "metadata": {},
   "source": [
    "TRANSFER TOKENS"
   ]
  },
  {
   "cell_type": "code",
   "execution_count": null,
   "metadata": {},
   "outputs": [],
   "source": [
    "import time\n",
    "from multiversx_sdk import AccountNonceHolder, TokenPayment, TransactionComputer, UserSigner\n",
    "from multiversx_sdk.core.transaction_builders import ContractCallBuilder, ContractDeploymentBuilder, MultiESDTNFTTransferBuilder, DefaultTransactionBuildersConfiguration\n",
    "\n",
    "\n",
    "token = \"UTK-2f80e9\"\n",
    "holder = Account(pem_file=\"~/Documents/sh1.pem\", pem_index=0)\n",
    "holder.address = Address(\"erd1awuuva7dhnlun9huwx7uefwpkhzjx9d3phenujgkv3zvx9tvsatsw420qt\")\n",
    "user.sync_nonce(context.network_provider.proxy)\n",
    "holder.sync_nonce(context.network_provider.proxy)\n",
    "user_signer = UserSigner.from_pem_file(Path(\"~/Documents/sh1.pem\"))\n",
    "\n",
    "\n",
    "hashes = []\n",
    "configs = DefaultTransactionBuildersConfiguration(chain_id=\"1\")\n",
    "\n",
    "\n",
    "transfers = [\n",
    "    TokenPayment.meta_esdt_from_amount(token, 0, 100000, 18)\n",
    "             ]\n",
    "\n",
    "builder = MultiESDTNFTTransferBuilder(\n",
    "        configs,\n",
    "        destination=user.address,\n",
    "        sender=holder.address,\n",
    "        gas_limit=30000000,\n",
    "        payments=transfers\n",
    "    )\n",
    "\n",
    "tx = builder.build()\n",
    "tx.nonce = holder.nonce\n",
    "tx_computer = TransactionComputer()\n",
    "tx.signature = user_signer.sign(tx_computer.compute_bytes_for_signing(tx))\n",
    "\n",
    "hash = context.network_provider.proxy.send_transaction(tx)\n",
    "print(hash)\n",
    "hashes.append(hash)\n",
    "time.sleep(2)"
   ]
  },
  {
   "cell_type": "markdown",
   "metadata": {},
   "source": [
    "STAKE"
   ]
  },
  {
   "cell_type": "code",
   "execution_count": 14,
   "metadata": {},
   "outputs": [
    {
     "name": "stderr",
     "output_type": "stream",
     "text": [
      "\u001b[38;20m2024-07-25 17:07:57,935 - DEBUG - Account.sync_nonce() done: 2195\u001b[0m\n",
      "\u001b[92m2024-07-25 17:07:59,233 - INFO - enter farm\u001b[0m\n",
      "\u001b[38;20m2024-07-25 17:07:59,235 - DEBUG - Account: erd1j8m8clpzxp4wpuv2hesw36whre6nysga9ggqrmy8n0shm4rgyues8pe5nd\u001b[0m\n",
      "\u001b[92m2024-07-25 17:07:59,236 - INFO - Calling stakeFarm endpoint...\u001b[0m\n",
      "\u001b[38;20m2024-07-25 17:07:59,237 - DEBUG - enter farm\u001b[0m\n",
      "\u001b[38;20m2024-07-25 17:07:59,418 - DEBUG - Contract call arguments: []\u001b[0m\n",
      "The transaction builders are deprecated and will be removed in a later release. Use the transaction factories instead.\n"
     ]
    },
    {
     "name": "stdout",
     "output_type": "stream",
     "text": [
      "Found 3 farm tokens in account\n"
     ]
    },
    {
     "name": "stderr",
     "output_type": "stream",
     "text": [
      "\u001b[92m2024-07-25 17:07:59,637 - INFO - No explorer known for https://proxy-shadowfork-three.elrond.ro. transaction raw path: https://proxy-shadowfork-three.elrond.ro/transaction/7bd3f576d954ef4230d2c63230d45bee8e26a644842b2c6efb16a643655a24d1\u001b[0m\n"
     ]
    },
    {
     "name": "stdout",
     "output_type": "stream",
     "text": [
      "Transaction hash: 7bd3f576d954ef4230d2c63230d45bee8e26a644842b2c6efb16a643655a24d1\n"
     ]
    }
   ],
   "source": [
    "from contracts.guild_contract import GuildContract\n",
    "from events.farm_events import EnterFarmEvent\n",
    "from utils.utils_tx import ESDTToken\n",
    "\n",
    "guild_address = Address(config_file[\"deployedGuildAddress\"])\n",
    "\n",
    "# user.address = Address(\"erd1j8m8clpzxp4wpuv2hesw36whre6nysga9ggqrmy8n0shm4rgyues8pe5nd\")\n",
    "user.sync_nonce(context.network_provider.proxy)\n",
    "\n",
    "farming_tk_balance = 0\n",
    "farm_tk_balance, farm_tk_nonce = 0, 0\n",
    "tokens_in_account = get_all_token_nonces_details_for_account(guild_contract.farmToken, user.address.bech32(), context.network_provider.proxy)\n",
    "print(f'Found {len(tokens_in_account)} farm tokens in account')\n",
    "for token in tokens_in_account:\n",
    "    if int(token['balance']) > farm_tk_balance:\n",
    "        farm_tk_balance = int(token['balance'])\n",
    "        farm_tk_nonce = token['nonce']\n",
    "        break\n",
    "\n",
    "event = EnterFarmEvent(guild_contract.farmingToken, 0, 1000000000000000000000,\n",
    "                       guild_contract.farmToken, farm_tk_nonce, farm_tk_balance)\n",
    "\n",
    "tx = guild_contract.stakeFarm(\n",
    "    context.network_provider,\n",
    "    user, \n",
    "    event,\n",
    "    True\n",
    ")\n",
    "\n",
    "print(\"Transaction hash:\", tx)"
   ]
  },
  {
   "cell_type": "markdown",
   "metadata": {},
   "source": [
    "UNSTAKE FROM GUILD"
   ]
  },
  {
   "cell_type": "code",
   "execution_count": null,
   "metadata": {},
   "outputs": [],
   "source": [
    "from contracts.guild_contract import GuildContract\n",
    "from events.farm_events import EnterFarmEvent, ExitFarmEvent\n",
    "from utils.contract_retrievers import retrieve_guild_by_address\n",
    "from utils.utils_tx import ESDTToken\n",
    "\n",
    "guild_address = Address(config_file[\"deployedGuildAddress\"])\n",
    "\n",
    "user.address = Address(\"erd1j8m8clpzxp4wpuv2hesw36whre6nysga9ggqrmy8n0shm4rgyues8pe5nd\")\n",
    "user.sync_nonce(context.network_provider.proxy)\n",
    "\n",
    "farm_tk_balance, farm_tk_nonce = 0, 0\n",
    "tokens_in_account = get_all_token_nonces_details_for_account(guild_contract.farmToken, user.address, context.network_provider.proxy)\n",
    "print(f'Found {len(tokens_in_account)} positions of {guild_contract.farmToken} in account')\n",
    "print(tokens_in_account)\n",
    "for token in tokens_in_account:\n",
    "    if int(token['balance']) > 0:\n",
    "        farm_tk_balance = int(token['balance'])\n",
    "        farm_tk_nonce = token['nonce']\n",
    "        event = ExitFarmEvent(guild_contract.farmToken, farm_tk_balance, farm_tk_nonce, '')\n",
    "        tx_hash = guild_contract.exitFarm(context.network_provider.proxy, user, event)\n",
    "        # break\n",
    "\n",
    "\n",
    "# "
   ]
  },
  {
   "cell_type": "markdown",
   "metadata": {},
   "source": [
    "UNBOND FARM"
   ]
  },
  {
   "cell_type": "code",
   "execution_count": 5,
   "metadata": {},
   "outputs": [
    {
     "name": "stderr",
     "output_type": "stream",
     "text": [
      "\u001b[38;20m2024-07-25 14:13:50,060 - DEBUG - Account.sync_nonce() done: 2189\u001b[0m\n"
     ]
    },
    {
     "name": "stdout",
     "output_type": "stream",
     "text": [
      "[]\n",
      "Found 0 positions of UTKUNBND-ebe962 in account\n",
      "0\n"
     ]
    }
   ],
   "source": [
    "from contracts.guild_contract import GuildContract\n",
    "from events.farm_events import EnterFarmEvent, ExitFarmEvent\n",
    "from utils.contract_retrievers import retrieve_guild_by_address\n",
    "from utils.utils_tx import ESDTToken\n",
    "from utils.contract_data_fetchers import GuildContractDataFetcher, GuildFactoryDataFetcher\n",
    "\n",
    "\n",
    "unbond_token = hex_to_string(GuildContractDataFetcher(guild_address,context.network_provider.proxy.url).get_data(\"getUnbondTokenId\"))\n",
    "\n",
    "# user.address = Address(\"erd1kvy5mas5z5ul3tt0ejvtrqcnrqqq6nwmwlxu7xpkqysnp3xwc06sgja0vu\")\n",
    "user.sync_nonce(context.network_provider.proxy)\n",
    "\n",
    "\n",
    "unbond_tk_balance, unbond_tk_nonce = 0, 0\n",
    "tokens_in_account = get_all_token_nonces_details_for_account(unbond_token, user.address, context.network_provider.proxy)\n",
    "print(tokens_in_account)\n",
    "\n",
    "print(f'Found {len(tokens_in_account)} positions of {unbond_token} in account')\n",
    "for token in tokens_in_account:\n",
    "    if int(token['balance']) > unbond_tk_balance:\n",
    "        unbond_tk_balance = int(token['balance'])\n",
    "        unbond_tk_nonce = token['nonce']\n",
    "        event = ExitFarmEvent(unbond_token, unbond_tk_balance, unbond_tk_nonce, '')\n",
    "        tx_hash = guild_contract.unbondFarm(context.network_provider.proxy, user, event)\n",
    "        # break\n",
    "\n",
    "print(unbond_tk_balance)\n",
    "\n",
    "# event = ExitFarmEvent(unbond_token, unbond_tk_balance, unbond_tk_nonce, '')\n",
    "\n",
    "# tx_hash = guild_contract.unbondFarm(context.network_provider.proxy, user, event)"
   ]
  },
  {
   "cell_type": "markdown",
   "metadata": {},
   "source": [
    "CLAIM REWARDS"
   ]
  },
  {
   "cell_type": "code",
   "execution_count": 8,
   "metadata": {},
   "outputs": [
    {
     "name": "stderr",
     "output_type": "stream",
     "text": [
      "\u001b[38;20m2024-07-25 14:18:40,481 - DEBUG - Account.sync_nonce() done: 2193\u001b[0m\n",
      "\u001b[92m2024-07-25 14:18:41,794 - INFO - claimRewards\u001b[0m\n",
      "\u001b[38;20m2024-07-25 14:18:41,796 - DEBUG - Account: erd1j8m8clpzxp4wpuv2hesw36whre6nysga9ggqrmy8n0shm4rgyues8pe5nd\u001b[0m\n",
      "\u001b[38;20m2024-07-25 14:18:41,799 - DEBUG - claimRewards\u001b[0m\n"
     ]
    },
    {
     "name": "stdout",
     "output_type": "stream",
     "text": [
      "Found 3 positions of UTKFARM-ebe962 in account\n"
     ]
    },
    {
     "name": "stderr",
     "output_type": "stream",
     "text": [
      "\u001b[38;20m2024-07-25 14:18:42,043 - DEBUG - Contract call arguments: []\u001b[0m\n",
      "The transaction builders are deprecated and will be removed in a later release. Use the transaction factories instead.\n",
      "\u001b[92m2024-07-25 14:18:42,301 - INFO - No explorer known for https://proxy-shadowfork-three.elrond.ro. transaction raw path: https://proxy-shadowfork-three.elrond.ro/transaction/8d5eddc2f0d814de71456b0816b53b6d67daf46e4f3820eeba18f8998b998faf\u001b[0m\n"
     ]
    }
   ],
   "source": [
    "from utils.utils_chain import Account, WrapperAddress as Address, get_all_token_nonces_details_for_account\n",
    "from contracts.farm_contract import ClaimRewardsFarmEvent\n",
    "\n",
    "# user.address = Address(\"erd1kvy5mas5z5ul3tt0ejvtrqcnrqqq6nwmwlxu7xpkqysnp3xwc06sgja0vu\")\n",
    "\n",
    "user.sync_nonce(context.network_provider.proxy)\n",
    "\n",
    "farm_tk_balance, farm_tk_nonce = 0, 0\n",
    "tokens_in_account = get_all_token_nonces_details_for_account(guild_contract.farmToken, user.address.bech32(), context.network_provider.proxy)\n",
    "print(f'Found {len(tokens_in_account)} positions of {guild_contract.farmToken} in account')\n",
    "for token in tokens_in_account:\n",
    "    if int(token['balance']) > farm_tk_balance:\n",
    "        farm_tk_balance = int(token['balance'])\n",
    "        farm_tk_nonce = token['nonce']\n",
    "        event = ClaimRewardsFarmEvent(farm_tk_balance, farm_tk_nonce, '')\n",
    "\n",
    "        tx_hash = guild_contract.claimRewards(context.network_provider, user, event)\n",
    "        # break\n",
    "\n",
    "if not farm_tk_nonce:\n",
    "    raise Exception(\"Not enough farm token balance\")\n",
    "\n"
   ]
  },
  {
   "cell_type": "markdown",
   "metadata": {},
   "source": [
    "COMPOUND REWARDS"
   ]
  },
  {
   "cell_type": "code",
   "execution_count": 9,
   "metadata": {},
   "outputs": [
    {
     "name": "stderr",
     "output_type": "stream",
     "text": [
      "\u001b[38;20m2024-07-25 14:30:11,182 - DEBUG - Account.sync_nonce() done: 2194\u001b[0m\n",
      "\u001b[92m2024-07-25 14:30:12,542 - INFO - compoundRewards\u001b[0m\n",
      "\u001b[38;20m2024-07-25 14:30:12,543 - DEBUG - Account: erd1j8m8clpzxp4wpuv2hesw36whre6nysga9ggqrmy8n0shm4rgyues8pe5nd\u001b[0m\n",
      "\u001b[38;20m2024-07-25 14:30:12,543 - DEBUG - compoundRewards\u001b[0m\n"
     ]
    },
    {
     "name": "stdout",
     "output_type": "stream",
     "text": [
      "Found 3 positions of UTKFARM-ebe962 in account\n"
     ]
    },
    {
     "name": "stderr",
     "output_type": "stream",
     "text": [
      "\u001b[38;20m2024-07-25 14:30:12,828 - DEBUG - Contract call arguments: []\u001b[0m\n",
      "The transaction builders are deprecated and will be removed in a later release. Use the transaction factories instead.\n",
      "\u001b[92m2024-07-25 14:30:13,089 - INFO - No explorer known for https://proxy-shadowfork-three.elrond.ro. transaction raw path: https://proxy-shadowfork-three.elrond.ro/transaction/e67d2e13791028908e9c1d2bead9d0bc9f241046b73de53a9371673a611b18d6\u001b[0m\n"
     ]
    }
   ],
   "source": [
    "from events.farm_events import CompoundRewardsFarmEvent\n",
    "from utils.utils_chain import Account, WrapperAddress as Address, get_all_token_nonces_details_for_account\n",
    "from contracts.farm_contract import ClaimRewardsFarmEvent\n",
    "\n",
    "user.address = Address(\"erd1j8m8clpzxp4wpuv2hesw36whre6nysga9ggqrmy8n0shm4rgyues8pe5nd\")\n",
    "user.sync_nonce(context.network_provider.proxy)\n",
    "\n",
    "\n",
    "farm_tk_balance, farm_tk_nonce = 0, 0\n",
    "tokens_in_account = get_all_token_nonces_details_for_account(guild_contract.farmToken, user.address.bech32(), context.network_provider.proxy)\n",
    "print(f'Found {len(tokens_in_account)} positions of {guild_contract.farmToken} in account')\n",
    "for token in tokens_in_account:\n",
    "    if int(token['balance']) > farm_tk_balance:\n",
    "        farm_tk_balance = int(token['balance'])\n",
    "        farm_tk_nonce = token['nonce']\n",
    "        # break\n",
    "        event = CompoundRewardsFarmEvent(farm_tk_balance, farm_tk_nonce)\n",
    "\n",
    "tx_hash = guild_contract.compoundRewards(context.network_provider, user, event)\n",
    "\n",
    "if not farm_tk_nonce:\n",
    "    raise Exception(\"Not enough farm token balance\")\n",
    "\n"
   ]
  },
  {
   "cell_type": "markdown",
   "metadata": {},
   "source": [
    "MERGE TOKENS"
   ]
  },
  {
   "cell_type": "code",
   "execution_count": null,
   "metadata": {},
   "outputs": [],
   "source": [
    "from events.farm_events import CompoundRewardsFarmEvent\n",
    "from utils.utils_chain import Account, WrapperAddress as Address, get_all_token_nonces_details_for_account\n",
    "from contracts.farm_contract import ClaimRewardsFarmEvent\n",
    "\n",
    "# user.address = Address(\"erd1j8m8clpzxp4wpuv2hesw36whre6nysga9ggqrmy8n0shm4rgyues8pe5nd\")\n",
    "user.sync_nonce(context.network_provider.proxy)\n",
    "\n",
    "\n",
    "farm_tk_balance, farm_tk_nonce = 0, 0\n",
    "tokens_in_account = get_all_token_nonces_details_for_account(guild_contract.farmToken, user.address.bech32(), context.network_provider.proxy)\n",
    "print(f'Found {len(tokens_in_account)} positions of {guild_contract.farmToken} in account')\n",
    "for token in tokens_in_account:\n",
    "    if int(token['balance']) > farm_tk_balance:\n",
    "        farm_tk_balance = int(token['balance'])\n",
    "        farm_tk_nonce = token['nonce']\n",
    "        break\n",
    "\n",
    "if not farm_tk_nonce:\n",
    "    raise Exception(\"Not enough farm token balance\")\n",
    "\n",
    "event = CompoundRewardsFarmEvent(1000000000, farm_tk_nonce)\n",
    "\n",
    "tx_hash = guild_contract.compoundRewards(context.network_provider, user, event)"
   ]
  },
  {
   "cell_type": "markdown",
   "metadata": {},
   "source": [
    "CALCULATE REWARDS FOR USER"
   ]
  },
  {
   "cell_type": "code",
   "execution_count": 16,
   "metadata": {},
   "outputs": [
    {
     "name": "stderr",
     "output_type": "stream",
     "text": [
      "\u001b[38;20m2024-07-19 12:20:18,693 - DEBUG - Account.sync_nonce() done: 2189\u001b[0m\n"
     ]
    },
    {
     "name": "stdout",
     "output_type": "stream",
     "text": [
      "Farm Tokens in account:\n",
      "\t{'attributes': 'AAAAByr/uUbKHBoAAAAAAAAACTY1ya3F3qAAAA==', 'balance': '3999999000000000', 'creator': 'erd1qqqqqqqqqqqqqpgq7rkf7hsj7vk23ccugd7624020dkl6c65satsr78hnj', 'nonce': 11, 'royalties': '0', 'tokenIdentifier': 'UTKFARM-ebe962-0b', 'uris': ['']}\n",
      "\t{'attributes': 'AAAABz5Qftuv4jcAAAAAAAAACTY1ya3F3qAAAA==', 'balance': '1000000000000000000000', 'creator': 'erd1qqqqqqqqqqqqqpgq7rkf7hsj7vk23ccugd7624020dkl6c65satsr78hnj', 'nonce': 19, 'royalties': '0', 'tokenIdentifier': 'UTKFARM-ebe962-13', 'uris': ['']}\n",
      "\t{'attributes': 'AAAABz5egwBrDWQAAAAAAAAACIrHIwSJ6AAA', 'balance': '10000000000000000000', 'creator': 'erd1qqqqqqqqqqqqqpgq7rkf7hsj7vk23ccugd7624020dkl6c65satsr78hnj', 'nonce': 20, 'royalties': '0', 'tokenIdentifier': 'UTKFARM-ebe962-14', 'uris': ['']}\n",
      "Found 3 positions of UTKFARM-ebe962 in account\n",
      "17555365296803172\n",
      "1388182191012176691215\n",
      "502210003999999001342426\n"
     ]
    }
   ],
   "source": [
    "from utils.utils_chain import Account, WrapperAddress as Address, base64_to_hex, decode_merged_attributes, get_all_token_nonces_details_for_account\n",
    "from contracts.farm_contract import ClaimRewardsFarmEvent\n",
    "from utils.decoding_structures import FARM_TOKEN_ATTRIBUTES\n",
    "from utils.contract_data_fetchers import GuildContractDataFetcher, GuildFactoryDataFetcher\n",
    "\n",
    "\n",
    "\n",
    "user.sync_nonce(context.network_provider.proxy)\n",
    "guild_contract_address = Address(configuration[\"deployedGuildAddress\"])\n",
    "\n",
    "\n",
    "\n",
    "farm_tk_balance, farm_tk_nonce = 0, 0\n",
    "tokens_in_account = get_all_token_nonces_details_for_account(guild_contract.farmToken, user.address.bech32(), context.network_provider.proxy)\n",
    "print(f'Farm Tokens in account:')\n",
    "for token in tokens_in_account:\n",
    "    print(f'\\t{token}')\n",
    "    # print(f'\\t\\t{decode_merged_attributes(base64_to_hex(token[\"attributes\"]), FARM_TOKEN_ATTRIBUTES)}')\n",
    "print(f'Found {len(tokens_in_account)} positions of {guild_contract.farmToken} in account')\n",
    "attr = \"\"\n",
    "\n",
    "\n",
    "for token in tokens_in_account:\n",
    "    if int(token['balance']) > farm_tk_balance:\n",
    "        farm_tk_balance = int(token['balance'])\n",
    "        farm_tk_nonce = token['nonce']\n",
    "\n",
    "\n",
    "rewards_per_share = GuildContractDataFetcher(guild_contract_address,context.network_provider.proxy.url).get_data(\"getUserRewardPerShare\")\n",
    "compounded_reward = GuildContractDataFetcher(guild_contract_address,context.network_provider.proxy.url).get_data(\"getAccumulatedRewards\")\n",
    "current_farm_amount = GuildContractDataFetcher(guild_contract_address,context.network_provider.proxy.url).get_data(\"getFarmTokenSupply\")\n",
    "\n",
    "\n",
    "\n",
    "# attributes_hex = base64_to_hex(tokens[token]['attributes'])\n",
    "# decoded_attributes = decode_merged_attributes(base64_to_hex(xmex_token_on_network.attributes), FARM_TOKEN_ATTRIBUTES)\n",
    "\n",
    "\n",
    "# tx_hash = guild_contract.calculateRewardsForUser(context.network_provider, user, farm_tk_balance, attr) #hex value\n",
    "\n",
    "if not farm_tk_nonce:\n",
    "    raise Exception(\"Not enough farm token balance\")\n",
    "print(rewards_per_share)\n",
    "print(compounded_reward)\n",
    "print(current_farm_amount)\n",
    "\n",
    "\n"
   ]
  },
  {
   "cell_type": "markdown",
   "metadata": {},
   "source": [
    "UPGRADE"
   ]
  },
  {
   "cell_type": "code",
   "execution_count": null,
   "metadata": {},
   "outputs": [],
   "source": [
    "from multiversx_sdk import CodeMetadata\n",
    "from utils.utils_tx import upgrade_call\n",
    "\n",
    "\n",
    "guild_address = Address.from_bech32(configuration[\"guildConfigScAddressModel\"])\n",
    "\n",
    "context.deployer_account.address = user.address\n",
    "context.deployer_account.sync_nonce(context.network_provider.proxy)\n",
    "# hash = contract.contract_upgrade(context.deployer_account, context.network_provider.proxy, config.DUMMY_PROXY, [])\n",
    "\n",
    "metadata = CodeMetadata(upgradeable=True, payable_by_contract=True, readable=True)\n",
    "gas_limit = 300000000\n",
    "\n",
    "# if no_init:\n",
    "#         arguments = []\n",
    "# else:\n",
    "arguments = []\n",
    "\n",
    "bytecode = Path(\n",
    "    \"/home/multiversx/Documents/guilds_py/wasm/guild-sc-config.wasm\"\n",
    "    )\n",
    "\n",
    "tx_hash = upgrade_call(\"guild\", context.network_provider.proxy, gas_limit, context.deployer_account, guild_address,\n",
    "                               bytecode, metadata, arguments)\n"
   ]
  },
  {
   "cell_type": "markdown",
   "metadata": {},
   "source": [
    "END REWARDS"
   ]
  },
  {
   "cell_type": "code",
   "execution_count": null,
   "metadata": {},
   "outputs": [],
   "source": [
    "from utils.utils_chain import Account, WrapperAddress as Address, get_all_token_nonces_details_for_account\n",
    "from contracts.farm_contract import ClaimRewardsFarmEvent\n",
    "\n",
    "user.address = Address(\"erd1awuuva7dhnlun9huwx7uefwpkhzjx9d3phenujgkv3zvx9tvsatsw420qt\")\n",
    "user.sync_nonce(context.network_provider.proxy)\n",
    "\n",
    "tx_hash = guild_contract.end_produce_rewards(user, context.network_provider.proxy)"
   ]
  },
  {
   "cell_type": "code",
   "execution_count": null,
   "metadata": {},
   "outputs": [],
   "source": [
    "#GET GUILD CONFIG STATS\n",
    "\n",
    "#GET GUILD FACTORY STATS\n",
    "\n",
    "#GET GUILD SC STATS\n",
    "\n",
    "guild_stats = guild_contract.get_all_stats(context.network_provider.proxy)\n",
    "\n",
    "print(guild_stats)\n",
    "\n",
    "\n",
    "farm_token_nonce, farm_token_amount = get_token(proxy_contract.proxy_farm_token, int(looking_for_nonce, 16))\n",
    "\n",
    "farm_dec_attributes, lp_dec_attributes, lktk_dec_attributes = guild_contract.get_all_decoded_farm_token_attributes_from_api(context.network_provider.proxy, get_nonce(guild_contract.address))\n"
   ]
  },
  {
   "cell_type": "markdown",
   "metadata": {},
   "source": [
    "CANCEL UNBOND FARM"
   ]
  },
  {
   "cell_type": "code",
   "execution_count": null,
   "metadata": {},
   "outputs": [],
   "source": [
    "from contracts.guild_contract import GuildContract\n",
    "from events.farm_events import EnterFarmEvent, ExitFarmEvent\n",
    "from utils.contract_retrievers import retrieve_guild_by_address\n",
    "from utils.utils_tx import ESDTToken\n",
    "from utils.contract_data_fetchers import GuildContractDataFetcher, GuildFactoryDataFetcher\n",
    "\n",
    "\n",
    "unbond_token = hex_to_string(GuildContractDataFetcher(guild_address,context.network_provider.proxy.url).get_data(\"getUnbondTokenId\"))\n",
    "\n",
    "# user.address = Address(\"erd1kvy5mas5z5ul3tt0ejvtrqcnrqqq6nwmwlxu7xpkqysnp3xwc06sgja0vu\")\n",
    "user.sync_nonce(context.network_provider.proxy)\n",
    "\n",
    "\n",
    "unbond_tk_balance, unbond_tk_nonce = 0, 0\n",
    "tokens_in_account = get_all_token_nonces_details_for_account(unbond_token, user.address, context.network_provider.proxy)\n",
    "print(tokens_in_account)\n",
    "\n",
    "print(f'Found {len(tokens_in_account)} positions of {unbond_token} in account')\n",
    "for token in tokens_in_account:\n",
    "    if int(token['balance']) > unbond_tk_balance:\n",
    "        unbond_tk_balance = int(token['balance'])\n",
    "        unbond_tk_nonce = token['nonce']\n",
    "        event = ExitFarmEvent(unbond_token, unbond_tk_balance, unbond_tk_nonce, '')\n",
    "        tx_hash = guild_contract.cancelUnbondFarm(context.network_provider.proxy, user, event)\n",
    "        # break\n",
    "\n",
    "print(unbond_tk_balance)\n",
    "\n",
    "# event = ExitFarmEvent(unbond_token, unbond_tk_balance, unbond_tk_nonce, '')\n",
    "\n",
    "# tx_hash = guild_contract.unbondFarm(context.network_provider.proxy, user, event)"
   ]
  },
  {
   "cell_type": "markdown",
   "metadata": {},
   "source": [
    "SET MIN/MAX STAKE"
   ]
  },
  {
   "cell_type": "code",
   "execution_count": null,
   "metadata": {},
   "outputs": [],
   "source": [
    "from utils.utils_chain import Account, WrapperAddress as Address, get_all_token_nonces_details_for_account\n",
    "from contracts.farm_contract import ClaimRewardsFarmEvent\n",
    "\n",
    "user.address = Address(\"erd1awuuva7dhnlun9huwx7uefwpkhzjx9d3phenujgkv3zvx9tvsatsw420qt\")\n",
    "user.sync_nonce(context.network_provider.proxy)\n",
    "\n",
    "tx_hash = guild_contract.set(user, context.network_provider.proxy)"
   ]
  },
  {
   "cell_type": "markdown",
   "metadata": {},
   "source": [
    "CLOSE GUILD"
   ]
  },
  {
   "cell_type": "code",
   "execution_count": null,
   "metadata": {},
   "outputs": [],
   "source": []
  }
 ],
 "metadata": {
  "kernelspec": {
   "display_name": ".venv",
   "language": "python",
   "name": "python3"
  },
  "language_info": {
   "codemirror_mode": {
    "name": "ipython",
    "version": 3
   },
   "file_extension": ".py",
   "mimetype": "text/x-python",
   "name": "python",
   "nbconvert_exporter": "python",
   "pygments_lexer": "ipython3",
   "version": "3.11.6"
  }
 },
 "nbformat": 4,
 "nbformat_minor": 2
}
